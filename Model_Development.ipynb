{
  "nbformat": 4,
  "nbformat_minor": 0,
  "metadata": {
    "colab": {
      "name": "Model Development.ipynb",
      "provenance": [],
      "mount_file_id": "https://github.com/bachvu98/Policy-NLP/blob/master/Model_Development.ipynb",
      "authorship_tag": "ABX9TyNh8jbpZyCGEH9w52LXA7J9",
      "include_colab_link": true
    },
    "kernelspec": {
      "name": "python3",
      "display_name": "Python 3"
    }
  },
  "cells": [
    {
      "cell_type": "markdown",
      "metadata": {
        "id": "view-in-github",
        "colab_type": "text"
      },
      "source": [
        "<a href=\"https://colab.research.google.com/github/bachvu98/Policy-NLP/blob/master/Model_Development.ipynb\" target=\"_parent\"><img src=\"https://colab.research.google.com/assets/colab-badge.svg\" alt=\"Open In Colab\"/></a>"
      ]
    },
    {
      "cell_type": "code",
      "metadata": {
        "id": "hiUPhZK91vyj",
        "colab_type": "code",
        "colab": {}
      },
      "source": [
        "#Basic imports\n",
        "from os import listdir\n",
        "import pandas as pd\n",
        "import numpy as np\n",
        "import nltk\n",
        "import string\n",
        "from nltk.corpus import stopwords\n",
        "from nltk.stem.snowball import *\n",
        "import re\n",
        "from sklearn.feature_extraction.text import CountVectorizer\n",
        "from sklearn.feature_extraction.text import TfidfTransformer\n",
        "from sklearn.model_selection import train_test_split\n",
        "from sklearn.pipeline import Pipeline\n",
        "from sklearn.metrics import classification_report, confusion_matrix\n",
        "\n",
        "import json\n",
        "import time"
      ],
      "execution_count": 10,
      "outputs": []
    },
    {
      "cell_type": "code",
      "metadata": {
        "id": "MgmpjVi8gWx4",
        "colab_type": "code",
        "colab": {}
      },
      "source": [
        "url = \"/content/drive/My Drive/OPP-115/OPP-115/annotations/\"\n",
        "files = [f for f in listdir(url) if f.endswith('.csv')]"
      ],
      "execution_count": 11,
      "outputs": []
    },
    {
      "cell_type": "code",
      "metadata": {
        "id": "iOL1pSp3xMSD",
        "colab_type": "code",
        "colab": {}
      },
      "source": [
        "names = \"\"\"annotation_id \n",
        "        batch_id \n",
        "        annotator_id \n",
        "        policy_id \n",
        "        segment_id \n",
        "        category_name \n",
        "        attributes_value_pairs \n",
        "        date \n",
        "        policy_url\"\"\".split()\n",
        "\n",
        "types = {'annotation_id': np.int,\n",
        "        'batch_id': str,\n",
        "        'annotator_id': np.int,\n",
        "        'policy_id': np.int,\n",
        "        'segment_id': np.int,\n",
        "        'category_name': str}\n",
        "\n",
        "annotations = pd.concat(pd.read_csv(url + f,header=None,names=names,\n",
        "             na_values={'date': 'Not specified'}, parse_dates=[7],index_col=0) for f in files)"
      ],
      "execution_count": 31,
      "outputs": []
    },
    {
      "cell_type": "code",
      "metadata": {
        "id": "WRbiyXjjSLIG",
        "colab_type": "code",
        "colab": {}
      },
      "source": [
        "attr_values = pd.DataFrame(data=None,columns=['annotation_id','start_idx','end_idx','attribute','text','value'])\n",
        "template = dict.fromkeys('startIndexInSegment endIndexInSegment selectedText value'.split())"
      ],
      "execution_count": 36,
      "outputs": []
    },
    {
      "cell_type": "code",
      "metadata": {
        "id": "6H4UT_EGSVor",
        "colab_type": "code",
        "colab": {}
      },
      "source": [
        "attr_values1 = pd.DataFrame(data=None,columns=['annotation_id','start_idx','end_idx','attribute','text','value'])\n",
        "t0 = time.time()\n",
        "print('Starting at ' + str(t0))\n",
        "for i in range(20000,annotations.shape[0]):    #Note manual adjustment of batch size here...\n",
        "    \n",
        "    attr_val = annotations['attributes_value_pairs'].iloc[i]\n",
        "    ann_id = annotations.index.values[i]\n",
        "    \n",
        "    obj = json.loads(attr_val)\n",
        "    keys = list(obj.keys())\n",
        "    \n",
        "    for k in keys:\n",
        "        obj2 = dict(template, **obj[k]) #Ensures at a minimum we get the empty template data.\n",
        "        df = pd.DataFrame({'annotation_id': [ann_id],\n",
        "                           'start_idx': [obj2['startIndexInSegment']],\n",
        "                           'end_idx': [obj2['endIndexInSegment']],\n",
        "                           'attribute': [k],\n",
        "                           'text': [obj2['selectedText']],\n",
        "                           'value': [obj2['value']]})\n",
        "        attr_values1 = attr_values1.append(df,ignore_index=True)\n",
        "t1 = time.time()\n",
        "print('Finished at ' + str(t1))\n",
        "print('Total elapsed time ' + str(t1-t0))\n",
        "attr_values = attr_values.append(attr_values1,ignore_index=True)\n",
        "attr_values.info()"
      ],
      "execution_count": null,
      "outputs": []
    },
    {
      "cell_type": "code",
      "metadata": {
        "id": "qMwHTYn8Uxc7",
        "colab_type": "code",
        "colab": {
          "base_uri": "https://localhost:8080/",
          "height": 402
        },
        "outputId": "4e395356-4aa8-4207-9bdc-641a5ef9b2a2"
      },
      "source": [
        "attr_values"
      ],
      "execution_count": 65,
      "outputs": [
        {
          "output_type": "execute_result",
          "data": {
            "text/html": [
              "<div>\n",
              "<style scoped>\n",
              "    .dataframe tbody tr th:only-of-type {\n",
              "        vertical-align: middle;\n",
              "    }\n",
              "\n",
              "    .dataframe tbody tr th {\n",
              "        vertical-align: top;\n",
              "    }\n",
              "\n",
              "    .dataframe thead th {\n",
              "        text-align: right;\n",
              "    }\n",
              "</style>\n",
              "<table border=\"1\" class=\"dataframe\">\n",
              "  <thead>\n",
              "    <tr style=\"text-align: right;\">\n",
              "      <th></th>\n",
              "      <th>annotation_id</th>\n",
              "      <th>start_idx</th>\n",
              "      <th>end_idx</th>\n",
              "      <th>attribute</th>\n",
              "      <th>text</th>\n",
              "      <th>value</th>\n",
              "    </tr>\n",
              "  </thead>\n",
              "  <tbody>\n",
              "    <tr>\n",
              "      <th>0</th>\n",
              "      <td>3844</td>\n",
              "      <td>-1</td>\n",
              "      <td>-1</td>\n",
              "      <td>Collection Mode</td>\n",
              "      <td>null</td>\n",
              "      <td>not-selected</td>\n",
              "    </tr>\n",
              "    <tr>\n",
              "      <th>1</th>\n",
              "      <td>3844</td>\n",
              "      <td>223</td>\n",
              "      <td>238</td>\n",
              "      <td>Choice Scope</td>\n",
              "      <td>use and sharing</td>\n",
              "      <td>Use</td>\n",
              "    </tr>\n",
              "    <tr>\n",
              "      <th>2</th>\n",
              "      <td>3844</td>\n",
              "      <td>95</td>\n",
              "      <td>105</td>\n",
              "      <td>Action First-Party</td>\n",
              "      <td>we collect</td>\n",
              "      <td>Collect on website</td>\n",
              "    </tr>\n",
              "    <tr>\n",
              "      <th>3</th>\n",
              "      <td>3844</td>\n",
              "      <td>74</td>\n",
              "      <td>123</td>\n",
              "      <td>Personal Information Type</td>\n",
              "      <td>any information that we collect from or about you</td>\n",
              "      <td>Unspecified</td>\n",
              "    </tr>\n",
              "    <tr>\n",
              "      <th>4</th>\n",
              "      <td>3844</td>\n",
              "      <td>191</td>\n",
              "      <td>253</td>\n",
              "      <td>Choice Type</td>\n",
              "      <td>, which provides choices in the use and sharin...</td>\n",
              "      <td>Unspecified</td>\n",
              "    </tr>\n",
              "    <tr>\n",
              "      <th>...</th>\n",
              "      <td>...</td>\n",
              "      <td>...</td>\n",
              "      <td>...</td>\n",
              "      <td>...</td>\n",
              "      <td>...</td>\n",
              "      <td>...</td>\n",
              "    </tr>\n",
              "    <tr>\n",
              "      <th>7008</th>\n",
              "      <td>3847</td>\n",
              "      <td>127</td>\n",
              "      <td>157</td>\n",
              "      <td>Notification Type</td>\n",
              "      <td>we will update it on this page</td>\n",
              "      <td>General notice in privacy policy</td>\n",
              "    </tr>\n",
              "    <tr>\n",
              "      <th>7009</th>\n",
              "      <td>3847</td>\n",
              "      <td>193</td>\n",
              "      <td>249</td>\n",
              "      <td>Change Type</td>\n",
              "      <td>If our information practices change in a signi...</td>\n",
              "      <td>Privacy relevant change</td>\n",
              "    </tr>\n",
              "    <tr>\n",
              "      <th>7010</th>\n",
              "      <td>3847</td>\n",
              "      <td>440</td>\n",
              "      <td>642</td>\n",
              "      <td>User Choice</td>\n",
              "      <td>If you disagree with any changes to this priva...</td>\n",
              "      <td>Opt-out</td>\n",
              "    </tr>\n",
              "    <tr>\n",
              "      <th>7011</th>\n",
              "      <td>3847</td>\n",
              "      <td>251</td>\n",
              "      <td>290</td>\n",
              "      <td>Notification Type</td>\n",
              "      <td>we will provide a more prominent notice</td>\n",
              "      <td>Unspecified</td>\n",
              "    </tr>\n",
              "    <tr>\n",
              "      <th>7012</th>\n",
              "      <td>3847</td>\n",
              "      <td>0</td>\n",
              "      <td>31</td>\n",
              "      <td>Other Type</td>\n",
              "      <td>Last Updated: October 3, 2014 s</td>\n",
              "      <td>Other</td>\n",
              "    </tr>\n",
              "  </tbody>\n",
              "</table>\n",
              "<p>7013 rows × 6 columns</p>\n",
              "</div>"
            ],
            "text/plain": [
              "     annotation_id  ...                             value\n",
              "0             3844  ...                      not-selected\n",
              "1             3844  ...                               Use\n",
              "2             3844  ...                Collect on website\n",
              "3             3844  ...                       Unspecified\n",
              "4             3844  ...                       Unspecified\n",
              "...            ...  ...                               ...\n",
              "7008          3847  ...  General notice in privacy policy\n",
              "7009          3847  ...           Privacy relevant change\n",
              "7010          3847  ...                           Opt-out\n",
              "7011          3847  ...                       Unspecified\n",
              "7012          3847  ...                             Other\n",
              "\n",
              "[7013 rows x 6 columns]"
            ]
          },
          "metadata": {
            "tags": []
          },
          "execution_count": 65
        }
      ]
    }
  ]
}