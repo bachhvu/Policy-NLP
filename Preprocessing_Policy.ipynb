{
  "nbformat": 4,
  "nbformat_minor": 0,
  "metadata": {
    "colab": {
      "name": "Untitled6.ipynb",
      "provenance": [],
      "toc_visible": true,
      "mount_file_id": "https://github.com/bachvu98/Policy-NLP/blob/master/Preprocessing_Policy.ipynb",
      "authorship_tag": "ABX9TyPw9dOiw4JB4JFcOHPUjl1r",
      "include_colab_link": true
    },
    "kernelspec": {
      "name": "python3",
      "display_name": "Python 3"
    }
  },
  "cells": [
    {
      "cell_type": "markdown",
      "metadata": {
        "id": "view-in-github",
        "colab_type": "text"
      },
      "source": [
        "<a href=\"https://colab.research.google.com/github/bachvu98/Policy-NLP/blob/master/Preprocessing_Policy.ipynb\" target=\"_parent\"><img src=\"https://colab.research.google.com/assets/colab-badge.svg\" alt=\"Open In Colab\"/></a>"
      ]
    },
    {
      "cell_type": "markdown",
      "metadata": {
        "id": "8Ft54CMZf3c9",
        "colab_type": "text"
      },
      "source": [
        "# Import required dependencies\n",
        "First, we import the require dependencies"
      ]
    },
    {
      "cell_type": "code",
      "metadata": {
        "id": "nVVXCy_9cr_9",
        "colab_type": "code",
        "colab": {
          "base_uri": "https://localhost:8080/",
          "height": 141
        },
        "outputId": "9292e9a7-00f2-4535-ca79-ed8703e3e665"
      },
      "source": [
        "import pandas as pd\n",
        "import numpy as np\n",
        "import string\n",
        "import nltk\n",
        "import re\n",
        "from nltk.corpus import stopwords\n",
        "from nltk.tokenize import word_tokenize\n",
        "from nltk.stem import WordNetLemmatizer\n",
        "from nltk.stem.porter import PorterStemmer\n",
        "nltk.download('stopwords')\n",
        "nltk.download('punkt')\n",
        "nltk.download('wordnet')\n"
      ],
      "execution_count": 19,
      "outputs": [
        {
          "output_type": "stream",
          "text": [
            "[nltk_data] Downloading package stopwords to /root/nltk_data...\n",
            "[nltk_data]   Package stopwords is already up-to-date!\n",
            "[nltk_data] Downloading package punkt to /root/nltk_data...\n",
            "[nltk_data]   Package punkt is already up-to-date!\n",
            "[nltk_data] Downloading package wordnet to /root/nltk_data...\n",
            "[nltk_data]   Unzipping corpora/wordnet.zip.\n"
          ],
          "name": "stdout"
        },
        {
          "output_type": "execute_result",
          "data": {
            "text/plain": [
              "True"
            ]
          },
          "metadata": {
            "tags": []
          },
          "execution_count": 19
        }
      ]
    },
    {
      "cell_type": "code",
      "metadata": {
        "id": "hjK6ovO2wpwy",
        "colab_type": "code",
        "colab": {
          "base_uri": "https://localhost:8080/",
          "height": 194
        },
        "outputId": "81a3713c-e20a-46a8-c5f8-454640ebbbee"
      },
      "source": [
        "segments = pd.read_csv('/content/drive/My Drive/OPP-115/OPP-115/segment_categories.csv',index_col=0)\n",
        "segments.head()"
      ],
      "execution_count": 12,
      "outputs": [
        {
          "output_type": "execute_result",
          "data": {
            "text/html": [
              "<div>\n",
              "<style scoped>\n",
              "    .dataframe tbody tr th:only-of-type {\n",
              "        vertical-align: middle;\n",
              "    }\n",
              "\n",
              "    .dataframe tbody tr th {\n",
              "        vertical-align: top;\n",
              "    }\n",
              "\n",
              "    .dataframe thead th {\n",
              "        text-align: right;\n",
              "    }\n",
              "</style>\n",
              "<table border=\"1\" class=\"dataframe\">\n",
              "  <thead>\n",
              "    <tr style=\"text-align: right;\">\n",
              "      <th></th>\n",
              "      <th>Policy UID</th>\n",
              "      <th>segment_id</th>\n",
              "      <th>category_name</th>\n",
              "      <th>segments</th>\n",
              "    </tr>\n",
              "  </thead>\n",
              "  <tbody>\n",
              "    <tr>\n",
              "      <th>0</th>\n",
              "      <td>20</td>\n",
              "      <td>0</td>\n",
              "      <td>Other</td>\n",
              "      <td>&lt;strong&gt; Privacy Policy &lt;/strong&gt; &lt;br&gt; &lt;br&gt; &lt;s...</td>\n",
              "    </tr>\n",
              "    <tr>\n",
              "      <th>1</th>\n",
              "      <td>20</td>\n",
              "      <td>1</td>\n",
              "      <td>Other</td>\n",
              "      <td>This privacy policy does not apply to Sites ma...</td>\n",
              "    </tr>\n",
              "    <tr>\n",
              "      <th>2</th>\n",
              "      <td>20</td>\n",
              "      <td>2</td>\n",
              "      <td>Policy Change</td>\n",
              "      <td>By visiting our Sites, you are accepting the p...</td>\n",
              "    </tr>\n",
              "    <tr>\n",
              "      <th>3</th>\n",
              "      <td>20</td>\n",
              "      <td>3</td>\n",
              "      <td>First Party Collection/Use</td>\n",
              "      <td>&lt;strong&gt; What Information Is Collected? &lt;/stro...</td>\n",
              "    </tr>\n",
              "    <tr>\n",
              "      <th>4</th>\n",
              "      <td>20</td>\n",
              "      <td>4</td>\n",
              "      <td>First Party Collection/Use</td>\n",
              "      <td>&lt;strong&gt; Personally Identifiable Information &lt;...</td>\n",
              "    </tr>\n",
              "  </tbody>\n",
              "</table>\n",
              "</div>"
            ],
            "text/plain": [
              "   Policy UID  ...                                           segments\n",
              "0          20  ...  <strong> Privacy Policy </strong> <br> <br> <s...\n",
              "1          20  ...  This privacy policy does not apply to Sites ma...\n",
              "2          20  ...  By visiting our Sites, you are accepting the p...\n",
              "3          20  ...  <strong> What Information Is Collected? </stro...\n",
              "4          20  ...  <strong> Personally Identifiable Information <...\n",
              "\n",
              "[5 rows x 4 columns]"
            ]
          },
          "metadata": {
            "tags": []
          },
          "execution_count": 12
        }
      ]
    },
    {
      "cell_type": "markdown",
      "metadata": {
        "id": "ilRX33gIFuS1",
        "colab_type": "text"
      },
      "source": [
        "# Preprocessing segments text"
      ]
    },
    {
      "cell_type": "code",
      "metadata": {
        "id": "X2aIUFohmpdg",
        "colab_type": "code",
        "colab": {}
      },
      "source": [
        "def clean_text(text):\n",
        "  text = ' '.join(re.sub(\"(@[A-Za-z0-9]+)|([^0-9A-Za-z \\t])|(\\w+:\\/\\/\\S+)\", \"\", text).split())\n",
        "  #Then tokenisation\n",
        "  tokens = word_tokenize(text)\n",
        "  # convert to lower case\n",
        "  tokens = [w.lower() for w in tokens]\n",
        "  # remove punctuation from each word\n",
        "  table = str.maketrans('', '', string.punctuation)\n",
        "  stripped = [w.translate(table) for w in tokens]\n",
        "  # remove remaining tokens that are not alphabetic\n",
        "  words = [word for word in stripped if word.isalpha()]\n",
        "  # filter out stop words\n",
        "  stop_words = set(stopwords.words('english'))\n",
        "  # You can add more stop words here, specific for texts\n",
        "  words = [w for w in words if not w in stop_words]\n",
        "  # stemming of words\n",
        "  lemmatizer = WordNetLemmatizer()\n",
        "  words = [lemmatizer.lemmatize(word) for word in words]\n",
        "  # Convert from list to a sentence again\n",
        "  text = ' '.join(word for word in words)\n",
        "  return text"
      ],
      "execution_count": 15,
      "outputs": []
    },
    {
      "cell_type": "code",
      "metadata": {
        "id": "7Q-pk8G913Y5",
        "colab_type": "code",
        "colab": {
          "base_uri": "https://localhost:8080/",
          "height": 194
        },
        "outputId": "a34e9cb9-cf25-42ae-cd28-9d04d5ba966c"
      },
      "source": [
        "#Process the segments here\n",
        "segments['segments'] = segments['segments'].apply(clean_text)\n",
        "segments.head()"
      ],
      "execution_count": 20,
      "outputs": [
        {
          "output_type": "execute_result",
          "data": {
            "text/html": [
              "<div>\n",
              "<style scoped>\n",
              "    .dataframe tbody tr th:only-of-type {\n",
              "        vertical-align: middle;\n",
              "    }\n",
              "\n",
              "    .dataframe tbody tr th {\n",
              "        vertical-align: top;\n",
              "    }\n",
              "\n",
              "    .dataframe thead th {\n",
              "        text-align: right;\n",
              "    }\n",
              "</style>\n",
              "<table border=\"1\" class=\"dataframe\">\n",
              "  <thead>\n",
              "    <tr style=\"text-align: right;\">\n",
              "      <th></th>\n",
              "      <th>Policy UID</th>\n",
              "      <th>segment_id</th>\n",
              "      <th>category_name</th>\n",
              "      <th>segments</th>\n",
              "    </tr>\n",
              "  </thead>\n",
              "  <tbody>\n",
              "    <tr>\n",
              "      <th>0</th>\n",
              "      <td>20</td>\n",
              "      <td>0</td>\n",
              "      <td>Other</td>\n",
              "      <td>strong privacy policy strong br br strong effe...</td>\n",
              "    </tr>\n",
              "    <tr>\n",
              "      <th>1</th>\n",
              "      <td>20</td>\n",
              "      <td>1</td>\n",
              "      <td>Other</td>\n",
              "      <td>privacy policy apply site maintained company o...</td>\n",
              "    </tr>\n",
              "    <tr>\n",
              "      <th>2</th>\n",
              "      <td>20</td>\n",
              "      <td>2</td>\n",
              "      <td>Policy Change</td>\n",
              "      <td>visiting site accepting practice described pri...</td>\n",
              "    </tr>\n",
              "    <tr>\n",
              "      <th>3</th>\n",
              "      <td>20</td>\n",
              "      <td>3</td>\n",
              "      <td>First Party Collection/Use</td>\n",
              "      <td>strong information collected strong br br coll...</td>\n",
              "    </tr>\n",
              "    <tr>\n",
              "      <th>4</th>\n",
              "      <td>20</td>\n",
              "      <td>4</td>\n",
              "      <td>First Party Collection/Use</td>\n",
              "      <td>strong personally identifiable information str...</td>\n",
              "    </tr>\n",
              "  </tbody>\n",
              "</table>\n",
              "</div>"
            ],
            "text/plain": [
              "   Policy UID  ...                                           segments\n",
              "0          20  ...  strong privacy policy strong br br strong effe...\n",
              "1          20  ...  privacy policy apply site maintained company o...\n",
              "2          20  ...  visiting site accepting practice described pri...\n",
              "3          20  ...  strong information collected strong br br coll...\n",
              "4          20  ...  strong personally identifiable information str...\n",
              "\n",
              "[5 rows x 4 columns]"
            ]
          },
          "metadata": {
            "tags": []
          },
          "execution_count": 20
        }
      ]
    },
    {
      "cell_type": "code",
      "metadata": {
        "id": "WDkiun_rUFQK",
        "colab_type": "code",
        "colab": {
          "base_uri": "https://localhost:8080/",
          "height": 107
        },
        "outputId": "5ec87400-2618-409a-d1c8-84575a51ad86"
      },
      "source": [
        "segments.iloc[5]['segments']"
      ],
      "execution_count": 21,
      "outputs": [
        {
          "output_type": "execute_result",
          "data": {
            "application/vnd.google.colaboratory.intrinsic+json": {
              "type": "string"
            },
            "text/plain": [
              "'strong nonpersonally identifiable information strong br br interact site may collect certain information identify individually nonpersonally identifiable information nonpii demographic data information computer mobile device device use access site including ip address general location information unique device identifier browser type browser language transactional information may also collect information use site including search term search result additional traffic data time access date access software crash report session identification number access time referring website address server may automatically keep activity log use site addition nonidentifiable individual information may collect aggregate data regarding use site br br'"
            ]
          },
          "metadata": {
            "tags": []
          },
          "execution_count": 21
        }
      ]
    },
    {
      "cell_type": "code",
      "metadata": {
        "id": "1kWtj51k4r-T",
        "colab_type": "code",
        "colab": {}
      },
      "source": [
        "segments.to_csv(\"/content/drive/My Drive/OPP-115/OPP-115/segment_processed.csv\")"
      ],
      "execution_count": 22,
      "outputs": []
    }
  ]
}