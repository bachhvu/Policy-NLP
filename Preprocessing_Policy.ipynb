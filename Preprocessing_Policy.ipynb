{
  "nbformat": 4,
  "nbformat_minor": 0,
  "metadata": {
    "colab": {
      "name": "Untitled6.ipynb",
      "provenance": [],
      "toc_visible": true,
      "mount_file_id": "https://github.com/bachvu98/Policy-NLP/blob/master/Preprocessing_Policy.ipynb",
      "authorship_tag": "ABX9TyMKpwrm/b0AKdstJVZMT/oA",
      "include_colab_link": true
    },
    "kernelspec": {
      "name": "python3",
      "display_name": "Python 3"
    }
  },
  "cells": [
    {
      "cell_type": "markdown",
      "metadata": {
        "id": "view-in-github",
        "colab_type": "text"
      },
      "source": [
        "<a href=\"https://colab.research.google.com/github/bachvu98/Policy-NLP/blob/master/Preprocessing_Policy.ipynb\" target=\"_parent\"><img src=\"https://colab.research.google.com/assets/colab-badge.svg\" alt=\"Open In Colab\"/></a>"
      ]
    },
    {
      "cell_type": "markdown",
      "metadata": {
        "id": "8Ft54CMZf3c9",
        "colab_type": "text"
      },
      "source": [
        "First, we import the require dependencies"
      ]
    },
    {
      "cell_type": "code",
      "metadata": {
        "id": "nVVXCy_9cr_9",
        "colab_type": "code",
        "colab": {
          "base_uri": "https://localhost:8080/",
          "height": 101
        },
        "outputId": "037e9ff2-c099-40ef-ff18-3567071a7e2d"
      },
      "source": [
        "import pandas as pd\n",
        "import numpy as np\n",
        "import string\n",
        "import nltk\n",
        "import re\n",
        "from nltk.corpus import stopwords\n",
        "from nltk.tokenize import word_tokenize\n",
        "from nltk.stem.porter import PorterStemmer\n",
        "nltk.download('stopwords')\n",
        "nltk.download('punkt')"
      ],
      "execution_count": 26,
      "outputs": [
        {
          "output_type": "stream",
          "text": [
            "[nltk_data] Downloading package stopwords to /root/nltk_data...\n",
            "[nltk_data]   Unzipping corpora/stopwords.zip.\n",
            "[nltk_data] Downloading package punkt to /root/nltk_data...\n",
            "[nltk_data]   Unzipping tokenizers/punkt.zip.\n"
          ],
          "name": "stdout"
        },
        {
          "output_type": "execute_result",
          "data": {
            "text/plain": [
              "True"
            ]
          },
          "metadata": {
            "tags": []
          },
          "execution_count": 26
        }
      ]
    },
    {
      "cell_type": "markdown",
      "metadata": {
        "id": "7VLVaZ5OgDB2",
        "colab_type": "text"
      },
      "source": [
        "Read in the data from GitHub repository"
      ]
    },
    {
      "cell_type": "code",
      "metadata": {
        "id": "qZe1zJ0Rc6EF",
        "colab_type": "code",
        "colab": {}
      },
      "source": [
        "annotations = pd.read_csv('https://raw.githubusercontent.com/bachvu98/Policy-NLP/master/OPP-115_v1_0/OPP-115/annotations.csv')\n",
        "sites = pd.read_csv('https://raw.githubusercontent.com/bachvu98/Policy-NLP/master/OPP-115_v1_0/OPP-115/sites.csv')\n",
        "segments = pd.read_csv('https://raw.githubusercontent.com/bachvu98/Policy-NLP/master/OPP-115_v1_0/OPP-115/segments.csv')"
      ],
      "execution_count": 12,
      "outputs": []
    },
    {
      "cell_type": "markdown",
      "metadata": {
        "id": "j3oe9VCKgJID",
        "colab_type": "text"
      },
      "source": [
        "Preview of **annotations** and **segments** table"
      ]
    },
    {
      "cell_type": "code",
      "metadata": {
        "id": "GcQtEXXjUnhQ",
        "colab_type": "code",
        "colab": {
          "base_uri": "https://localhost:8080/",
          "height": 296
        },
        "outputId": "589ea7cd-4264-47a2-c341-cfbd3dc4eef3"
      },
      "source": [
        "annotations.head()"
      ],
      "execution_count": 13,
      "outputs": [
        {
          "output_type": "execute_result",
          "data": {
            "text/html": [
              "<div>\n",
              "<style scoped>\n",
              "    .dataframe tbody tr th:only-of-type {\n",
              "        vertical-align: middle;\n",
              "    }\n",
              "\n",
              "    .dataframe tbody tr th {\n",
              "        vertical-align: top;\n",
              "    }\n",
              "\n",
              "    .dataframe thead th {\n",
              "        text-align: right;\n",
              "    }\n",
              "</style>\n",
              "<table border=\"1\" class=\"dataframe\">\n",
              "  <thead>\n",
              "    <tr style=\"text-align: right;\">\n",
              "      <th></th>\n",
              "      <th>Policy UID</th>\n",
              "      <th>annotation_id</th>\n",
              "      <th>batch_id</th>\n",
              "      <th>annotator_id</th>\n",
              "      <th>segment_id</th>\n",
              "      <th>category_name</th>\n",
              "      <th>attributes_value_pairs</th>\n",
              "      <th>date</th>\n",
              "      <th>policy_url</th>\n",
              "    </tr>\n",
              "  </thead>\n",
              "  <tbody>\n",
              "    <tr>\n",
              "      <th>0</th>\n",
              "      <td>1017</td>\n",
              "      <td>20137</td>\n",
              "      <td>test_category_labeling_highlight_fordham_aaaaa</td>\n",
              "      <td>121</td>\n",
              "      <td>0</td>\n",
              "      <td>Other</td>\n",
              "      <td>{\"Other Type\": {\"selectedText\": \"Sci-News.com ...</td>\n",
              "      <td>NaN</td>\n",
              "      <td>http://www.sci-news.com/privacy-policy.html</td>\n",
              "    </tr>\n",
              "    <tr>\n",
              "      <th>1</th>\n",
              "      <td>1017</td>\n",
              "      <td>20324</td>\n",
              "      <td>test_category_labeling_highlight_fordham_aaaaa</td>\n",
              "      <td>121</td>\n",
              "      <td>1</td>\n",
              "      <td>First Party Collection/Use</td>\n",
              "      <td>{\"Collection Mode\": {\"selectedText\": \"nformati...</td>\n",
              "      <td>NaN</td>\n",
              "      <td>http://www.sci-news.com/privacy-policy.html</td>\n",
              "    </tr>\n",
              "    <tr>\n",
              "      <th>2</th>\n",
              "      <td>1017</td>\n",
              "      <td>20325</td>\n",
              "      <td>test_category_labeling_highlight_fordham_aaaaa</td>\n",
              "      <td>121</td>\n",
              "      <td>1</td>\n",
              "      <td>First Party Collection/Use</td>\n",
              "      <td>{\"Collection Mode\": {\"selectedText\": \"nformati...</td>\n",
              "      <td>NaN</td>\n",
              "      <td>http://www.sci-news.com/privacy-policy.html</td>\n",
              "    </tr>\n",
              "    <tr>\n",
              "      <th>3</th>\n",
              "      <td>1017</td>\n",
              "      <td>20326</td>\n",
              "      <td>test_category_labeling_highlight_fordham_aaaaa</td>\n",
              "      <td>121</td>\n",
              "      <td>2</td>\n",
              "      <td>Data Retention</td>\n",
              "      <td>{\"Personal Information Type\": {\"selectedText\":...</td>\n",
              "      <td>NaN</td>\n",
              "      <td>http://www.sci-news.com/privacy-policy.html</td>\n",
              "    </tr>\n",
              "    <tr>\n",
              "      <th>4</th>\n",
              "      <td>1017</td>\n",
              "      <td>20327</td>\n",
              "      <td>test_category_labeling_highlight_fordham_aaaaa</td>\n",
              "      <td>121</td>\n",
              "      <td>3</td>\n",
              "      <td>First Party Collection/Use</td>\n",
              "      <td>{\"Collection Mode\": {\"selectedText\": \"Not sele...</td>\n",
              "      <td>NaN</td>\n",
              "      <td>http://www.sci-news.com/privacy-policy.html</td>\n",
              "    </tr>\n",
              "  </tbody>\n",
              "</table>\n",
              "</div>"
            ],
            "text/plain": [
              "   Policy UID  annotation_id  ... date                                   policy_url\n",
              "0        1017          20137  ...  NaN  http://www.sci-news.com/privacy-policy.html\n",
              "1        1017          20324  ...  NaN  http://www.sci-news.com/privacy-policy.html\n",
              "2        1017          20325  ...  NaN  http://www.sci-news.com/privacy-policy.html\n",
              "3        1017          20326  ...  NaN  http://www.sci-news.com/privacy-policy.html\n",
              "4        1017          20327  ...  NaN  http://www.sci-news.com/privacy-policy.html\n",
              "\n",
              "[5 rows x 9 columns]"
            ]
          },
          "metadata": {
            "tags": []
          },
          "execution_count": 13
        }
      ]
    },
    {
      "cell_type": "code",
      "metadata": {
        "id": "H-gcb_YuUgo3",
        "colab_type": "code",
        "colab": {
          "base_uri": "https://localhost:8080/",
          "height": 195
        },
        "outputId": "1e0b0716-f1eb-4666-86cf-b9ffbb3b562b"
      },
      "source": [
        "segments.head()"
      ],
      "execution_count": 14,
      "outputs": [
        {
          "output_type": "execute_result",
          "data": {
            "text/html": [
              "<div>\n",
              "<style scoped>\n",
              "    .dataframe tbody tr th:only-of-type {\n",
              "        vertical-align: middle;\n",
              "    }\n",
              "\n",
              "    .dataframe tbody tr th {\n",
              "        vertical-align: top;\n",
              "    }\n",
              "\n",
              "    .dataframe thead th {\n",
              "        text-align: right;\n",
              "    }\n",
              "</style>\n",
              "<table border=\"1\" class=\"dataframe\">\n",
              "  <thead>\n",
              "    <tr style=\"text-align: right;\">\n",
              "      <th></th>\n",
              "      <th>Policy UID</th>\n",
              "      <th>segment_id</th>\n",
              "      <th>segments</th>\n",
              "    </tr>\n",
              "  </thead>\n",
              "  <tbody>\n",
              "    <tr>\n",
              "      <th>0</th>\n",
              "      <td>20</td>\n",
              "      <td>0</td>\n",
              "      <td>&lt;strong&gt; Privacy Policy &lt;/strong&gt; &lt;br&gt; &lt;br&gt; &lt;s...</td>\n",
              "    </tr>\n",
              "    <tr>\n",
              "      <th>1</th>\n",
              "      <td>20</td>\n",
              "      <td>1</td>\n",
              "      <td>This privacy policy does not apply to Sites ma...</td>\n",
              "    </tr>\n",
              "    <tr>\n",
              "      <th>2</th>\n",
              "      <td>20</td>\n",
              "      <td>2</td>\n",
              "      <td>By visiting our Sites, you are accepting the p...</td>\n",
              "    </tr>\n",
              "    <tr>\n",
              "      <th>3</th>\n",
              "      <td>20</td>\n",
              "      <td>3</td>\n",
              "      <td>&lt;strong&gt; What Information Is Collected? &lt;/stro...</td>\n",
              "    </tr>\n",
              "    <tr>\n",
              "      <th>4</th>\n",
              "      <td>20</td>\n",
              "      <td>4</td>\n",
              "      <td>&lt;strong&gt; Personally Identifiable Information &lt;...</td>\n",
              "    </tr>\n",
              "  </tbody>\n",
              "</table>\n",
              "</div>"
            ],
            "text/plain": [
              "   Policy UID  segment_id                                           segments\n",
              "0          20           0  <strong> Privacy Policy </strong> <br> <br> <s...\n",
              "1          20           1  This privacy policy does not apply to Sites ma...\n",
              "2          20           2  By visiting our Sites, you are accepting the p...\n",
              "3          20           3  <strong> What Information Is Collected? </stro...\n",
              "4          20           4  <strong> Personally Identifiable Information <..."
            ]
          },
          "metadata": {
            "tags": []
          },
          "execution_count": 14
        }
      ]
    },
    {
      "cell_type": "markdown",
      "metadata": {
        "id": "s5VVvzNwgRjp",
        "colab_type": "text"
      },
      "source": [
        "Merge annotations to corresponding segments"
      ]
    },
    {
      "cell_type": "code",
      "metadata": {
        "id": "IslgSdF1fQ0A",
        "colab_type": "code",
        "colab": {
          "base_uri": "https://localhost:8080/",
          "height": 212
        },
        "outputId": "900888fc-8a26-45ef-bf95-1744423f7e6d"
      },
      "source": [
        "joined = pd.merge(annotations,segments,on=['Policy UID','segment_id'],how='outer')\n",
        "joined['category_name'] = joined['category_name'].fillna(value='None')\n",
        "joined = joined.drop(['batch_id','attributes_value_pairs','date','annotation_id','annotator_id','policy_url'],axis=1)\n",
        "#joined = seg_ind.merge(ann_ind)\n",
        "print(joined.shape)\n",
        "joined.head()"
      ],
      "execution_count": 15,
      "outputs": [
        {
          "output_type": "stream",
          "text": [
            "(23194, 4)\n"
          ],
          "name": "stdout"
        },
        {
          "output_type": "execute_result",
          "data": {
            "text/html": [
              "<div>\n",
              "<style scoped>\n",
              "    .dataframe tbody tr th:only-of-type {\n",
              "        vertical-align: middle;\n",
              "    }\n",
              "\n",
              "    .dataframe tbody tr th {\n",
              "        vertical-align: top;\n",
              "    }\n",
              "\n",
              "    .dataframe thead th {\n",
              "        text-align: right;\n",
              "    }\n",
              "</style>\n",
              "<table border=\"1\" class=\"dataframe\">\n",
              "  <thead>\n",
              "    <tr style=\"text-align: right;\">\n",
              "      <th></th>\n",
              "      <th>Policy UID</th>\n",
              "      <th>segment_id</th>\n",
              "      <th>category_name</th>\n",
              "      <th>segments</th>\n",
              "    </tr>\n",
              "  </thead>\n",
              "  <tbody>\n",
              "    <tr>\n",
              "      <th>0</th>\n",
              "      <td>1017</td>\n",
              "      <td>0</td>\n",
              "      <td>Other</td>\n",
              "      <td>Privacy Policy &lt;br&gt; &lt;br&gt; Sci-News.com is commi...</td>\n",
              "    </tr>\n",
              "    <tr>\n",
              "      <th>1</th>\n",
              "      <td>1017</td>\n",
              "      <td>0</td>\n",
              "      <td>Other</td>\n",
              "      <td>Privacy Policy &lt;br&gt; &lt;br&gt; Sci-News.com is commi...</td>\n",
              "    </tr>\n",
              "    <tr>\n",
              "      <th>2</th>\n",
              "      <td>1017</td>\n",
              "      <td>0</td>\n",
              "      <td>Other</td>\n",
              "      <td>Privacy Policy &lt;br&gt; &lt;br&gt; Sci-News.com is commi...</td>\n",
              "    </tr>\n",
              "    <tr>\n",
              "      <th>3</th>\n",
              "      <td>1017</td>\n",
              "      <td>0</td>\n",
              "      <td>Policy Change</td>\n",
              "      <td>Privacy Policy &lt;br&gt; &lt;br&gt; Sci-News.com is commi...</td>\n",
              "    </tr>\n",
              "    <tr>\n",
              "      <th>4</th>\n",
              "      <td>1017</td>\n",
              "      <td>1</td>\n",
              "      <td>First Party Collection/Use</td>\n",
              "      <td>Information that Sci-News.com May Collect Onli...</td>\n",
              "    </tr>\n",
              "  </tbody>\n",
              "</table>\n",
              "</div>"
            ],
            "text/plain": [
              "   Policy UID  ...                                           segments\n",
              "0        1017  ...  Privacy Policy <br> <br> Sci-News.com is commi...\n",
              "1        1017  ...  Privacy Policy <br> <br> Sci-News.com is commi...\n",
              "2        1017  ...  Privacy Policy <br> <br> Sci-News.com is commi...\n",
              "3        1017  ...  Privacy Policy <br> <br> Sci-News.com is commi...\n",
              "4        1017  ...  Information that Sci-News.com May Collect Onli...\n",
              "\n",
              "[5 rows x 4 columns]"
            ]
          },
          "metadata": {
            "tags": []
          },
          "execution_count": 15
        }
      ]
    },
    {
      "cell_type": "markdown",
      "metadata": {
        "id": "3qLxYc-Ni4Bb",
        "colab_type": "text"
      },
      "source": [
        "There are usually cases where a single segment belong to multiple categories."
      ]
    },
    {
      "cell_type": "code",
      "metadata": {
        "id": "qifwTvnXftKJ",
        "colab_type": "code",
        "colab": {
          "base_uri": "https://localhost:8080/",
          "height": 235
        },
        "outputId": "115671ff-b28f-4768-f8ac-4034a81e76c6"
      },
      "source": [
        "print(joined.groupby(['Policy UID','segment_id']).agg(lambda x: x.nunique())['category_name'])"
      ],
      "execution_count": 7,
      "outputs": [
        {
          "output_type": "stream",
          "text": [
            "Policy UID  segment_id\n",
            "20          0             1\n",
            "            1             1\n",
            "            2             2\n",
            "            3             1\n",
            "            4             2\n",
            "                         ..\n",
            "1713        84            3\n",
            "            85            1\n",
            "            86            1\n",
            "            87            1\n",
            "            88            1\n",
            "Name: category_name, Length: 3792, dtype: int64\n"
          ],
          "name": "stdout"
        }
      ]
    },
    {
      "cell_type": "markdown",
      "metadata": {
        "id": "vYwIq_jejVfl",
        "colab_type": "text"
      },
      "source": [
        "In this case, we select the category name that appears most often in each segment."
      ]
    },
    {
      "cell_type": "code",
      "metadata": {
        "id": "BUYLdbd3jU4r",
        "colab_type": "code",
        "colab": {
          "base_uri": "https://localhost:8080/",
          "height": 195
        },
        "outputId": "7b09fefe-ad17-4829-bd60-9dfc3f88283c"
      },
      "source": [
        "#Get the mode of each segment\n",
        "mode_categories = joined.groupby(['Policy UID','segment_id']).agg(lambda x: x.value_counts().index[0])\n",
        "mode_categories = mode_categories.reset_index()\n",
        "mode_categories.head()"
      ],
      "execution_count": 16,
      "outputs": [
        {
          "output_type": "execute_result",
          "data": {
            "text/html": [
              "<div>\n",
              "<style scoped>\n",
              "    .dataframe tbody tr th:only-of-type {\n",
              "        vertical-align: middle;\n",
              "    }\n",
              "\n",
              "    .dataframe tbody tr th {\n",
              "        vertical-align: top;\n",
              "    }\n",
              "\n",
              "    .dataframe thead th {\n",
              "        text-align: right;\n",
              "    }\n",
              "</style>\n",
              "<table border=\"1\" class=\"dataframe\">\n",
              "  <thead>\n",
              "    <tr style=\"text-align: right;\">\n",
              "      <th></th>\n",
              "      <th>Policy UID</th>\n",
              "      <th>segment_id</th>\n",
              "      <th>category_name</th>\n",
              "      <th>segments</th>\n",
              "    </tr>\n",
              "  </thead>\n",
              "  <tbody>\n",
              "    <tr>\n",
              "      <th>0</th>\n",
              "      <td>20</td>\n",
              "      <td>0</td>\n",
              "      <td>Other</td>\n",
              "      <td>&lt;strong&gt; Privacy Policy &lt;/strong&gt; &lt;br&gt; &lt;br&gt; &lt;s...</td>\n",
              "    </tr>\n",
              "    <tr>\n",
              "      <th>1</th>\n",
              "      <td>20</td>\n",
              "      <td>1</td>\n",
              "      <td>Other</td>\n",
              "      <td>This privacy policy does not apply to Sites ma...</td>\n",
              "    </tr>\n",
              "    <tr>\n",
              "      <th>2</th>\n",
              "      <td>20</td>\n",
              "      <td>2</td>\n",
              "      <td>Policy Change</td>\n",
              "      <td>By visiting our Sites, you are accepting the p...</td>\n",
              "    </tr>\n",
              "    <tr>\n",
              "      <th>3</th>\n",
              "      <td>20</td>\n",
              "      <td>3</td>\n",
              "      <td>First Party Collection/Use</td>\n",
              "      <td>&lt;strong&gt; What Information Is Collected? &lt;/stro...</td>\n",
              "    </tr>\n",
              "    <tr>\n",
              "      <th>4</th>\n",
              "      <td>20</td>\n",
              "      <td>4</td>\n",
              "      <td>First Party Collection/Use</td>\n",
              "      <td>&lt;strong&gt; Personally Identifiable Information &lt;...</td>\n",
              "    </tr>\n",
              "  </tbody>\n",
              "</table>\n",
              "</div>"
            ],
            "text/plain": [
              "   Policy UID  ...                                           segments\n",
              "0          20  ...  <strong> Privacy Policy </strong> <br> <br> <s...\n",
              "1          20  ...  This privacy policy does not apply to Sites ma...\n",
              "2          20  ...  By visiting our Sites, you are accepting the p...\n",
              "3          20  ...  <strong> What Information Is Collected? </stro...\n",
              "4          20  ...  <strong> Personally Identifiable Information <...\n",
              "\n",
              "[5 rows x 4 columns]"
            ]
          },
          "metadata": {
            "tags": []
          },
          "execution_count": 16
        }
      ]
    },
    {
      "cell_type": "code",
      "metadata": {
        "id": "b3otVRwqlSE9",
        "colab_type": "code",
        "colab": {
          "base_uri": "https://localhost:8080/",
          "height": 54
        },
        "outputId": "d8191337-627e-4ded-8a76-aabdd8d06208"
      },
      "source": [
        "categories = list(mode_categories['category_name'].unique())\n",
        "print(categories)\n",
        "cols = {'Other': 'other',\n",
        "        'Policy Change': 'policy_change',\n",
        "        'First Party Collection/Use': 'first_party_collection_use',\n",
        "        'Third Party Sharing/Collection': 'third_party_sharing_collection',\n",
        "        'Do Not Track': 'do_not_track',\n",
        "        'User Choice/Control': 'user_choice_control',\n",
        "        'International and Specific Audiences': 'international_specific_audiences',\n",
        "        'Data Security': 'data_security',\n",
        "        'Data Retention': 'data_retention',\n",
        "        'User Access, Edit and Deletion': 'user_access_edit_deletion'}"
      ],
      "execution_count": 17,
      "outputs": [
        {
          "output_type": "stream",
          "text": [
            "['Other', 'Policy Change', 'First Party Collection/Use', 'Third Party Sharing/Collection', 'Do Not Track', 'User Choice/Control', 'International and Specific Audiences', 'Data Security', 'Data Retention', 'User Access, Edit and Deletion']\n"
          ],
          "name": "stdout"
        }
      ]
    },
    {
      "cell_type": "code",
      "metadata": {
        "id": "w7tuknO8l-6I",
        "colab_type": "code",
        "colab": {}
      },
      "source": [
        "#Loop through the categories and generate a set of new columns with names in cols\n",
        "binary_categories = pd.DataFrame({'Policy UID':mode_categories['Policy UID'], 'segment_id':mode_categories['segment_id'], 'segments':mode_categories['segments']})"
      ],
      "execution_count": 18,
      "outputs": []
    },
    {
      "cell_type": "code",
      "metadata": {
        "id": "AKWcdUkomIDM",
        "colab_type": "code",
        "colab": {}
      },
      "source": [
        "for category in categories:\n",
        "    one_hot = lambda s: 1 if s.startswith(category) else 0\n",
        "    binary_categories[cols[category]] = mode_categories['category_name'].apply(one_hot)"
      ],
      "execution_count": 19,
      "outputs": []
    },
    {
      "cell_type": "code",
      "metadata": {
        "id": "TZK2XM3Mo2lr",
        "colab_type": "code",
        "colab": {
          "base_uri": "https://localhost:8080/",
          "height": 34
        },
        "outputId": "a6e57720-e4f8-4486-e599-b823a8ff9c5e"
      },
      "source": [
        "print(binary_categories.shape)"
      ],
      "execution_count": 20,
      "outputs": [
        {
          "output_type": "stream",
          "text": [
            "(3792, 13)\n"
          ],
          "name": "stdout"
        }
      ]
    },
    {
      "cell_type": "code",
      "metadata": {
        "id": "DCFTYFLbmKJo",
        "colab_type": "code",
        "colab": {
          "base_uri": "https://localhost:8080/",
          "height": 618
        },
        "outputId": "c574ab33-3978-42ed-fd07-bb70c161a87b"
      },
      "source": [
        "binary_categories.head()"
      ],
      "execution_count": 21,
      "outputs": [
        {
          "output_type": "execute_result",
          "data": {
            "text/html": [
              "<div>\n",
              "<style scoped>\n",
              "    .dataframe tbody tr th:only-of-type {\n",
              "        vertical-align: middle;\n",
              "    }\n",
              "\n",
              "    .dataframe tbody tr th {\n",
              "        vertical-align: top;\n",
              "    }\n",
              "\n",
              "    .dataframe thead th {\n",
              "        text-align: right;\n",
              "    }\n",
              "</style>\n",
              "<table border=\"1\" class=\"dataframe\">\n",
              "  <thead>\n",
              "    <tr style=\"text-align: right;\">\n",
              "      <th></th>\n",
              "      <th>Policy UID</th>\n",
              "      <th>segment_id</th>\n",
              "      <th>segments</th>\n",
              "      <th>other</th>\n",
              "      <th>policy_change</th>\n",
              "      <th>first_party_collection_use</th>\n",
              "      <th>third_party_sharing_collection</th>\n",
              "      <th>do_not_track</th>\n",
              "      <th>user_choice_control</th>\n",
              "      <th>international_specific_audiences</th>\n",
              "      <th>data_security</th>\n",
              "      <th>data_retention</th>\n",
              "      <th>user_access_edit_deletion</th>\n",
              "    </tr>\n",
              "  </thead>\n",
              "  <tbody>\n",
              "    <tr>\n",
              "      <th>0</th>\n",
              "      <td>20</td>\n",
              "      <td>0</td>\n",
              "      <td>&lt;strong&gt; Privacy Policy &lt;/strong&gt; &lt;br&gt; &lt;br&gt; &lt;s...</td>\n",
              "      <td>1</td>\n",
              "      <td>0</td>\n",
              "      <td>0</td>\n",
              "      <td>0</td>\n",
              "      <td>0</td>\n",
              "      <td>0</td>\n",
              "      <td>0</td>\n",
              "      <td>0</td>\n",
              "      <td>0</td>\n",
              "      <td>0</td>\n",
              "    </tr>\n",
              "    <tr>\n",
              "      <th>1</th>\n",
              "      <td>20</td>\n",
              "      <td>1</td>\n",
              "      <td>This privacy policy does not apply to Sites ma...</td>\n",
              "      <td>1</td>\n",
              "      <td>0</td>\n",
              "      <td>0</td>\n",
              "      <td>0</td>\n",
              "      <td>0</td>\n",
              "      <td>0</td>\n",
              "      <td>0</td>\n",
              "      <td>0</td>\n",
              "      <td>0</td>\n",
              "      <td>0</td>\n",
              "    </tr>\n",
              "    <tr>\n",
              "      <th>2</th>\n",
              "      <td>20</td>\n",
              "      <td>2</td>\n",
              "      <td>By visiting our Sites, you are accepting the p...</td>\n",
              "      <td>0</td>\n",
              "      <td>1</td>\n",
              "      <td>0</td>\n",
              "      <td>0</td>\n",
              "      <td>0</td>\n",
              "      <td>0</td>\n",
              "      <td>0</td>\n",
              "      <td>0</td>\n",
              "      <td>0</td>\n",
              "      <td>0</td>\n",
              "    </tr>\n",
              "    <tr>\n",
              "      <th>3</th>\n",
              "      <td>20</td>\n",
              "      <td>3</td>\n",
              "      <td>&lt;strong&gt; What Information Is Collected? &lt;/stro...</td>\n",
              "      <td>0</td>\n",
              "      <td>0</td>\n",
              "      <td>1</td>\n",
              "      <td>0</td>\n",
              "      <td>0</td>\n",
              "      <td>0</td>\n",
              "      <td>0</td>\n",
              "      <td>0</td>\n",
              "      <td>0</td>\n",
              "      <td>0</td>\n",
              "    </tr>\n",
              "    <tr>\n",
              "      <th>4</th>\n",
              "      <td>20</td>\n",
              "      <td>4</td>\n",
              "      <td>&lt;strong&gt; Personally Identifiable Information &lt;...</td>\n",
              "      <td>0</td>\n",
              "      <td>0</td>\n",
              "      <td>1</td>\n",
              "      <td>0</td>\n",
              "      <td>0</td>\n",
              "      <td>0</td>\n",
              "      <td>0</td>\n",
              "      <td>0</td>\n",
              "      <td>0</td>\n",
              "      <td>0</td>\n",
              "    </tr>\n",
              "  </tbody>\n",
              "</table>\n",
              "</div>"
            ],
            "text/plain": [
              "   Policy UID  segment_id  ... data_retention  user_access_edit_deletion\n",
              "0          20           0  ...              0                          0\n",
              "1          20           1  ...              0                          0\n",
              "2          20           2  ...              0                          0\n",
              "3          20           3  ...              0                          0\n",
              "4          20           4  ...              0                          0\n",
              "\n",
              "[5 rows x 13 columns]"
            ]
          },
          "metadata": {
            "tags": []
          },
          "execution_count": 21
        }
      ]
    },
    {
      "cell_type": "markdown",
      "metadata": {
        "id": "YS1SirIP8s5B",
        "colab_type": "text"
      },
      "source": [
        "# Preprocessing segments text"
      ]
    },
    {
      "cell_type": "code",
      "metadata": {
        "id": "aX1W1VdP84q6",
        "colab_type": "code",
        "colab": {}
      },
      "source": [
        "def clean_text(text):\n",
        "  text = ' '.join(re.sub(\"(@[A-Za-z0-9]+)|([^0-9A-Za-z \\t])|(\\w+:\\/\\/\\S+)\", \"\", text).split())\n",
        "  #Then tokenisation\n",
        "  tokens = word_tokenize(text)\n",
        "  # convert to lower case\n",
        "  tokens = [w.lower() for w in tokens]\n",
        "  # remove punctuation from each word\n",
        "  table = str.maketrans('', '', string.punctuation)\n",
        "  stripped = [w.translate(table) for w in tokens]\n",
        "  # remove remaining tokens that are not alphabetic\n",
        "  words = [word for word in stripped if word.isalpha()]\n",
        "  # filter out stop words\n",
        "  stop_words = set(stopwords.words('english'))\n",
        "  # You can add more stop words here, specific for tweets\n",
        "  words = [w for w in words if not w in stop_words]\n",
        "  # stemming of words\n",
        "  porter = PorterStemmer()\n",
        "  words = [porter.stem(word) for word in words]\n",
        "  # Convert from list to a sentence again\n",
        "  text = ' '.join(word for word in words)\n",
        "  return text"
      ],
      "execution_count": 23,
      "outputs": []
    },
    {
      "cell_type": "markdown",
      "metadata": {
        "id": "qEOhciT-9Bgb",
        "colab_type": "text"
      },
      "source": [
        ""
      ]
    },
    {
      "cell_type": "code",
      "metadata": {
        "id": "W17kaMe19BJW",
        "colab_type": "code",
        "colab": {}
      },
      "source": [
        "#Process the segments here\n",
        "binary_categories['segments'] = binary_categories['segments'].apply(clean_text)"
      ],
      "execution_count": 27,
      "outputs": []
    },
    {
      "cell_type": "code",
      "metadata": {
        "id": "2auHVsDL9Ehq",
        "colab_type": "code",
        "colab": {
          "base_uri": "https://localhost:8080/",
          "height": 652
        },
        "outputId": "3fed190a-a226-4c84-8672-1f97df6d1ed7"
      },
      "source": [
        "binary_categories.head()"
      ],
      "execution_count": 28,
      "outputs": [
        {
          "output_type": "execute_result",
          "data": {
            "text/html": [
              "<div>\n",
              "<style scoped>\n",
              "    .dataframe tbody tr th:only-of-type {\n",
              "        vertical-align: middle;\n",
              "    }\n",
              "\n",
              "    .dataframe tbody tr th {\n",
              "        vertical-align: top;\n",
              "    }\n",
              "\n",
              "    .dataframe thead th {\n",
              "        text-align: right;\n",
              "    }\n",
              "</style>\n",
              "<table border=\"1\" class=\"dataframe\">\n",
              "  <thead>\n",
              "    <tr style=\"text-align: right;\">\n",
              "      <th></th>\n",
              "      <th>Policy UID</th>\n",
              "      <th>segment_id</th>\n",
              "      <th>segments</th>\n",
              "      <th>other</th>\n",
              "      <th>policy_change</th>\n",
              "      <th>first_party_collection_use</th>\n",
              "      <th>third_party_sharing_collection</th>\n",
              "      <th>do_not_track</th>\n",
              "      <th>user_choice_control</th>\n",
              "      <th>international_specific_audiences</th>\n",
              "      <th>data_security</th>\n",
              "      <th>data_retention</th>\n",
              "      <th>user_access_edit_deletion</th>\n",
              "    </tr>\n",
              "  </thead>\n",
              "  <tbody>\n",
              "    <tr>\n",
              "      <th>0</th>\n",
              "      <td>20</td>\n",
              "      <td>0</td>\n",
              "      <td>strong privaci polici strong br br strong effe...</td>\n",
              "      <td>1</td>\n",
              "      <td>0</td>\n",
              "      <td>0</td>\n",
              "      <td>0</td>\n",
              "      <td>0</td>\n",
              "      <td>0</td>\n",
              "      <td>0</td>\n",
              "      <td>0</td>\n",
              "      <td>0</td>\n",
              "      <td>0</td>\n",
              "    </tr>\n",
              "    <tr>\n",
              "      <th>1</th>\n",
              "      <td>20</td>\n",
              "      <td>1</td>\n",
              "      <td>privaci polici appli site maintain compani org...</td>\n",
              "      <td>1</td>\n",
              "      <td>0</td>\n",
              "      <td>0</td>\n",
              "      <td>0</td>\n",
              "      <td>0</td>\n",
              "      <td>0</td>\n",
              "      <td>0</td>\n",
              "      <td>0</td>\n",
              "      <td>0</td>\n",
              "      <td>0</td>\n",
              "    </tr>\n",
              "    <tr>\n",
              "      <th>2</th>\n",
              "      <td>20</td>\n",
              "      <td>2</td>\n",
              "      <td>visit site accept practic describ privaci poli...</td>\n",
              "      <td>0</td>\n",
              "      <td>1</td>\n",
              "      <td>0</td>\n",
              "      <td>0</td>\n",
              "      <td>0</td>\n",
              "      <td>0</td>\n",
              "      <td>0</td>\n",
              "      <td>0</td>\n",
              "      <td>0</td>\n",
              "      <td>0</td>\n",
              "    </tr>\n",
              "    <tr>\n",
              "      <th>3</th>\n",
              "      <td>20</td>\n",
              "      <td>3</td>\n",
              "      <td>strong inform collect strong br br collect two...</td>\n",
              "      <td>0</td>\n",
              "      <td>0</td>\n",
              "      <td>1</td>\n",
              "      <td>0</td>\n",
              "      <td>0</td>\n",
              "      <td>0</td>\n",
              "      <td>0</td>\n",
              "      <td>0</td>\n",
              "      <td>0</td>\n",
              "      <td>0</td>\n",
              "    </tr>\n",
              "    <tr>\n",
              "      <th>4</th>\n",
              "      <td>20</td>\n",
              "      <td>4</td>\n",
              "      <td>strong person identifi inform strong br br gen...</td>\n",
              "      <td>0</td>\n",
              "      <td>0</td>\n",
              "      <td>1</td>\n",
              "      <td>0</td>\n",
              "      <td>0</td>\n",
              "      <td>0</td>\n",
              "      <td>0</td>\n",
              "      <td>0</td>\n",
              "      <td>0</td>\n",
              "      <td>0</td>\n",
              "    </tr>\n",
              "  </tbody>\n",
              "</table>\n",
              "</div>"
            ],
            "text/plain": [
              "   Policy UID  segment_id  ... data_retention  user_access_edit_deletion\n",
              "0          20           0  ...              0                          0\n",
              "1          20           1  ...              0                          0\n",
              "2          20           2  ...              0                          0\n",
              "3          20           3  ...              0                          0\n",
              "4          20           4  ...              0                          0\n",
              "\n",
              "[5 rows x 13 columns]"
            ]
          },
          "metadata": {
            "tags": []
          },
          "execution_count": 28
        }
      ]
    },
    {
      "cell_type": "code",
      "metadata": {
        "id": "j8wbIHjc9EKQ",
        "colab_type": "code",
        "colab": {}
      },
      "source": [
        "binary_categories.to_csv(\"/content/drive/My Drive/OPP-115/OPP-115/binary_segment_categories.csv\")"
      ],
      "execution_count": 30,
      "outputs": []
    }
  ]
}