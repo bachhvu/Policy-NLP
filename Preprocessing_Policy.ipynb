{
  "nbformat": 4,
  "nbformat_minor": 0,
  "metadata": {
    "colab": {
      "name": "Untitled6.ipynb",
      "provenance": [],
      "mount_file_id": "https://github.com/bachvu98/Policy-NLP/blob/master/Transform%20to%20Binary%20Categories.ipynb",
      "authorship_tag": "ABX9TyPe6gHArRiXpOIKZs6pUm9F",
      "include_colab_link": true
    },
    "kernelspec": {
      "name": "python3",
      "display_name": "Python 3"
    }
  },
  "cells": [
    {
      "cell_type": "markdown",
      "metadata": {
        "id": "view-in-github",
        "colab_type": "text"
      },
      "source": [
        "<a href=\"https://colab.research.google.com/github/bachvu98/Policy-NLP/blob/all-in-one/Preprocessing_Policy.ipynb\" target=\"_parent\"><img src=\"https://colab.research.google.com/assets/colab-badge.svg\" alt=\"Open In Colab\"/></a>"
      ]
    },
    {
      "cell_type": "markdown",
      "metadata": {
        "id": "8Ft54CMZf3c9",
        "colab_type": "text"
      },
      "source": [
        "First, we import the require dependencies"
      ]
    },
    {
      "cell_type": "code",
      "metadata": {
        "id": "nVVXCy_9cr_9",
        "colab_type": "code",
        "colab": {
          "base_uri": "https://localhost:8080/",
          "height": 101
        },
        "outputId": "d00f3ea1-a526-4817-f4a9-17f11d0c057e"
      },
      "source": [
        "import pandas as pd\n",
        "import numpy as np\n",
        "import string\n",
        "import nltk\n",
        "import re\n",
        "from nltk.corpus import stopwords\n",
        "from nltk.tokenize import word_tokenize\n",
        "from nltk.stem.porter import PorterStemmer\n",
        "nltk.download('stopwords')\n",
        "nltk.download('punkt')"
      ],
      "execution_count": null,
      "outputs": [
        {
          "output_type": "stream",
          "text": [
            "[nltk_data] Downloading package stopwords to /root/nltk_data...\n",
            "[nltk_data]   Package stopwords is already up-to-date!\n",
            "[nltk_data] Downloading package punkt to /root/nltk_data...\n",
            "[nltk_data]   Package punkt is already up-to-date!\n"
          ],
          "name": "stdout"
        },
        {
          "output_type": "execute_result",
          "data": {
            "text/plain": [
              "True"
            ]
          },
          "metadata": {
            "tags": []
          },
          "execution_count": 170
        }
      ]
    },
    {
      "cell_type": "markdown",
      "metadata": {
        "id": "7VLVaZ5OgDB2",
        "colab_type": "text"
      },
      "source": [
        "Read in the data from GitHub repository"
      ]
    },
    {
      "cell_type": "code",
      "metadata": {
        "id": "qZe1zJ0Rc6EF",
        "colab_type": "code",
        "colab": {}
      },
      "source": [
        "annotations = pd.read_csv('https://raw.githubusercontent.com/bachvu98/Policy-NLP/master/OPP-115_v1_0/OPP-115/annotations.csv')\n",
        "sites = pd.read_csv('https://raw.githubusercontent.com/bachvu98/Policy-NLP/master/OPP-115_v1_0/OPP-115/sites.csv')\n",
        "segments = pd.read_csv('https://raw.githubusercontent.com/bachvu98/Policy-NLP/master/OPP-115_v1_0/OPP-115/segments.csv')"
      ],
      "execution_count": null,
      "outputs": []
    },
    {
      "cell_type": "markdown",
      "metadata": {
        "id": "j3oe9VCKgJID",
        "colab_type": "text"
      },
      "source": [
        "Preview of **annotations** and **segments** table"
      ]
    },
    {
      "cell_type": "code",
      "metadata": {
        "id": "GcQtEXXjUnhQ",
        "colab_type": "code",
        "colab": {
          "base_uri": "https://localhost:8080/",
          "height": 400
        },
        "outputId": "7b9bb55e-6826-4b60-e1c1-d9e9e36643a5"
      },
      "source": [
        "annotations.head()"
      ],
      "execution_count": null,
      "outputs": [
        {
          "output_type": "execute_result",
          "data": {
            "text/html": [
              "<div>\n",
              "<style scoped>\n",
              "    .dataframe tbody tr th:only-of-type {\n",
              "        vertical-align: middle;\n",
              "    }\n",
              "\n",
              "    .dataframe tbody tr th {\n",
              "        vertical-align: top;\n",
              "    }\n",
              "\n",
              "    .dataframe thead th {\n",
              "        text-align: right;\n",
              "    }\n",
              "</style>\n",
              "<table border=\"1\" class=\"dataframe\">\n",
              "  <thead>\n",
              "    <tr style=\"text-align: right;\">\n",
              "      <th></th>\n",
              "      <th>Policy UID</th>\n",
              "      <th>annotation_id</th>\n",
              "      <th>batch_id</th>\n",
              "      <th>annotator_id</th>\n",
              "      <th>segment_id</th>\n",
              "      <th>category_name</th>\n",
              "      <th>attributes_value_pairs</th>\n",
              "      <th>date</th>\n",
              "      <th>policy_url</th>\n",
              "    </tr>\n",
              "  </thead>\n",
              "  <tbody>\n",
              "    <tr>\n",
              "      <th>0</th>\n",
              "      <td>1017</td>\n",
              "      <td>20137</td>\n",
              "      <td>test_category_labeling_highlight_fordham_aaaaa</td>\n",
              "      <td>121</td>\n",
              "      <td>0</td>\n",
              "      <td>Other</td>\n",
              "      <td>{\"Other Type\": {\"selectedText\": \"Sci-News.com ...</td>\n",
              "      <td>NaN</td>\n",
              "      <td>http://www.sci-news.com/privacy-policy.html</td>\n",
              "    </tr>\n",
              "    <tr>\n",
              "      <th>1</th>\n",
              "      <td>1017</td>\n",
              "      <td>20324</td>\n",
              "      <td>test_category_labeling_highlight_fordham_aaaaa</td>\n",
              "      <td>121</td>\n",
              "      <td>1</td>\n",
              "      <td>First Party Collection/Use</td>\n",
              "      <td>{\"Collection Mode\": {\"selectedText\": \"nformati...</td>\n",
              "      <td>NaN</td>\n",
              "      <td>http://www.sci-news.com/privacy-policy.html</td>\n",
              "    </tr>\n",
              "    <tr>\n",
              "      <th>2</th>\n",
              "      <td>1017</td>\n",
              "      <td>20325</td>\n",
              "      <td>test_category_labeling_highlight_fordham_aaaaa</td>\n",
              "      <td>121</td>\n",
              "      <td>1</td>\n",
              "      <td>First Party Collection/Use</td>\n",
              "      <td>{\"Collection Mode\": {\"selectedText\": \"nformati...</td>\n",
              "      <td>NaN</td>\n",
              "      <td>http://www.sci-news.com/privacy-policy.html</td>\n",
              "    </tr>\n",
              "    <tr>\n",
              "      <th>3</th>\n",
              "      <td>1017</td>\n",
              "      <td>20326</td>\n",
              "      <td>test_category_labeling_highlight_fordham_aaaaa</td>\n",
              "      <td>121</td>\n",
              "      <td>2</td>\n",
              "      <td>Data Retention</td>\n",
              "      <td>{\"Personal Information Type\": {\"selectedText\":...</td>\n",
              "      <td>NaN</td>\n",
              "      <td>http://www.sci-news.com/privacy-policy.html</td>\n",
              "    </tr>\n",
              "    <tr>\n",
              "      <th>4</th>\n",
              "      <td>1017</td>\n",
              "      <td>20327</td>\n",
              "      <td>test_category_labeling_highlight_fordham_aaaaa</td>\n",
              "      <td>121</td>\n",
              "      <td>3</td>\n",
              "      <td>First Party Collection/Use</td>\n",
              "      <td>{\"Collection Mode\": {\"selectedText\": \"Not sele...</td>\n",
              "      <td>NaN</td>\n",
              "      <td>http://www.sci-news.com/privacy-policy.html</td>\n",
              "    </tr>\n",
              "  </tbody>\n",
              "</table>\n",
              "</div>"
            ],
            "text/plain": [
              "   Policy UID  annotation_id  ... date                                   policy_url\n",
              "0        1017          20137  ...  NaN  http://www.sci-news.com/privacy-policy.html\n",
              "1        1017          20324  ...  NaN  http://www.sci-news.com/privacy-policy.html\n",
              "2        1017          20325  ...  NaN  http://www.sci-news.com/privacy-policy.html\n",
              "3        1017          20326  ...  NaN  http://www.sci-news.com/privacy-policy.html\n",
              "4        1017          20327  ...  NaN  http://www.sci-news.com/privacy-policy.html\n",
              "\n",
              "[5 rows x 9 columns]"
            ]
          },
          "metadata": {
            "tags": []
          },
          "execution_count": 139
        }
      ]
    },
    {
      "cell_type": "code",
      "metadata": {
        "id": "H-gcb_YuUgo3",
        "colab_type": "code",
        "colab": {
          "base_uri": "https://localhost:8080/",
          "height": 195
        },
        "outputId": "aa703f1c-f035-4b5b-91d6-a8fcc3922cf2"
      },
      "source": [
        "segments.head()"
      ],
      "execution_count": null,
      "outputs": [
        {
          "output_type": "execute_result",
          "data": {
            "text/html": [
              "<div>\n",
              "<style scoped>\n",
              "    .dataframe tbody tr th:only-of-type {\n",
              "        vertical-align: middle;\n",
              "    }\n",
              "\n",
              "    .dataframe tbody tr th {\n",
              "        vertical-align: top;\n",
              "    }\n",
              "\n",
              "    .dataframe thead th {\n",
              "        text-align: right;\n",
              "    }\n",
              "</style>\n",
              "<table border=\"1\" class=\"dataframe\">\n",
              "  <thead>\n",
              "    <tr style=\"text-align: right;\">\n",
              "      <th></th>\n",
              "      <th>Policy UID</th>\n",
              "      <th>segment_id</th>\n",
              "      <th>segments</th>\n",
              "    </tr>\n",
              "  </thead>\n",
              "  <tbody>\n",
              "    <tr>\n",
              "      <th>0</th>\n",
              "      <td>20</td>\n",
              "      <td>0</td>\n",
              "      <td>&lt;strong&gt; Privacy Policy &lt;/strong&gt; &lt;br&gt; &lt;br&gt; &lt;s...</td>\n",
              "    </tr>\n",
              "    <tr>\n",
              "      <th>1</th>\n",
              "      <td>20</td>\n",
              "      <td>1</td>\n",
              "      <td>This privacy policy does not apply to Sites ma...</td>\n",
              "    </tr>\n",
              "    <tr>\n",
              "      <th>2</th>\n",
              "      <td>20</td>\n",
              "      <td>2</td>\n",
              "      <td>By visiting our Sites, you are accepting the p...</td>\n",
              "    </tr>\n",
              "    <tr>\n",
              "      <th>3</th>\n",
              "      <td>20</td>\n",
              "      <td>3</td>\n",
              "      <td>&lt;strong&gt; What Information Is Collected? &lt;/stro...</td>\n",
              "    </tr>\n",
              "    <tr>\n",
              "      <th>4</th>\n",
              "      <td>20</td>\n",
              "      <td>4</td>\n",
              "      <td>&lt;strong&gt; Personally Identifiable Information &lt;...</td>\n",
              "    </tr>\n",
              "  </tbody>\n",
              "</table>\n",
              "</div>"
            ],
            "text/plain": [
              "   Policy UID  segment_id                                           segments\n",
              "0          20           0  <strong> Privacy Policy </strong> <br> <br> <s...\n",
              "1          20           1  This privacy policy does not apply to Sites ma...\n",
              "2          20           2  By visiting our Sites, you are accepting the p...\n",
              "3          20           3  <strong> What Information Is Collected? </stro...\n",
              "4          20           4  <strong> Personally Identifiable Information <..."
            ]
          },
          "metadata": {
            "tags": []
          },
          "execution_count": 140
        }
      ]
    },
    {
      "cell_type": "markdown",
      "metadata": {
        "id": "s5VVvzNwgRjp",
        "colab_type": "text"
      },
      "source": [
        "Merge annotations to corresponding segments"
      ]
    },
    {
      "cell_type": "code",
      "metadata": {
        "id": "IslgSdF1fQ0A",
        "colab_type": "code",
        "colab": {
          "base_uri": "https://localhost:8080/",
          "height": 313
        },
        "outputId": "2523fe17-efa9-4974-ec17-b59a1bceb11d"
      },
      "source": [
        "joined = pd.merge(annotations,segments,on=['Policy UID','segment_id'],how='outer')\n",
        "joined['category_name'] = joined['category_name'].fillna(value='None')\n",
        "joined = joined.drop(['batch_id','attributes_value_pairs','date'],axis=1)\n",
        "#joined = seg_ind.merge(ann_ind)\n",
        "print(joined.shape)\n",
        "joined.head()"
      ],
      "execution_count": null,
      "outputs": [
        {
          "output_type": "stream",
          "text": [
            "(23194, 7)\n"
          ],
          "name": "stdout"
        },
        {
          "output_type": "execute_result",
          "data": {
            "text/html": [
              "<div>\n",
              "<style scoped>\n",
              "    .dataframe tbody tr th:only-of-type {\n",
              "        vertical-align: middle;\n",
              "    }\n",
              "\n",
              "    .dataframe tbody tr th {\n",
              "        vertical-align: top;\n",
              "    }\n",
              "\n",
              "    .dataframe thead th {\n",
              "        text-align: right;\n",
              "    }\n",
              "</style>\n",
              "<table border=\"1\" class=\"dataframe\">\n",
              "  <thead>\n",
              "    <tr style=\"text-align: right;\">\n",
              "      <th></th>\n",
              "      <th>Policy UID</th>\n",
              "      <th>annotation_id</th>\n",
              "      <th>annotator_id</th>\n",
              "      <th>segment_id</th>\n",
              "      <th>category_name</th>\n",
              "      <th>policy_url</th>\n",
              "      <th>segments</th>\n",
              "    </tr>\n",
              "  </thead>\n",
              "  <tbody>\n",
              "    <tr>\n",
              "      <th>0</th>\n",
              "      <td>1017</td>\n",
              "      <td>20137</td>\n",
              "      <td>121</td>\n",
              "      <td>0</td>\n",
              "      <td>Other</td>\n",
              "      <td>http://www.sci-news.com/privacy-policy.html</td>\n",
              "      <td>Privacy Policy &lt;br&gt; &lt;br&gt; Sci-News.com is commi...</td>\n",
              "    </tr>\n",
              "    <tr>\n",
              "      <th>1</th>\n",
              "      <td>1017</td>\n",
              "      <td>20589</td>\n",
              "      <td>117</td>\n",
              "      <td>0</td>\n",
              "      <td>Other</td>\n",
              "      <td>http://www.sci-news.com/privacy-policy.html</td>\n",
              "      <td>Privacy Policy &lt;br&gt; &lt;br&gt; Sci-News.com is commi...</td>\n",
              "    </tr>\n",
              "    <tr>\n",
              "      <th>2</th>\n",
              "      <td>1017</td>\n",
              "      <td>20233</td>\n",
              "      <td>118</td>\n",
              "      <td>0</td>\n",
              "      <td>Other</td>\n",
              "      <td>http://www.sci-news.com/privacy-policy.html</td>\n",
              "      <td>Privacy Policy &lt;br&gt; &lt;br&gt; Sci-News.com is commi...</td>\n",
              "    </tr>\n",
              "    <tr>\n",
              "      <th>3</th>\n",
              "      <td>1017</td>\n",
              "      <td>20234</td>\n",
              "      <td>118</td>\n",
              "      <td>0</td>\n",
              "      <td>Policy Change</td>\n",
              "      <td>http://www.sci-news.com/privacy-policy.html</td>\n",
              "      <td>Privacy Policy &lt;br&gt; &lt;br&gt; Sci-News.com is commi...</td>\n",
              "    </tr>\n",
              "    <tr>\n",
              "      <th>4</th>\n",
              "      <td>1017</td>\n",
              "      <td>20324</td>\n",
              "      <td>121</td>\n",
              "      <td>1</td>\n",
              "      <td>First Party Collection/Use</td>\n",
              "      <td>http://www.sci-news.com/privacy-policy.html</td>\n",
              "      <td>Information that Sci-News.com May Collect Onli...</td>\n",
              "    </tr>\n",
              "  </tbody>\n",
              "</table>\n",
              "</div>"
            ],
            "text/plain": [
              "   Policy UID  ...                                           segments\n",
              "0        1017  ...  Privacy Policy <br> <br> Sci-News.com is commi...\n",
              "1        1017  ...  Privacy Policy <br> <br> Sci-News.com is commi...\n",
              "2        1017  ...  Privacy Policy <br> <br> Sci-News.com is commi...\n",
              "3        1017  ...  Privacy Policy <br> <br> Sci-News.com is commi...\n",
              "4        1017  ...  Information that Sci-News.com May Collect Onli...\n",
              "\n",
              "[5 rows x 7 columns]"
            ]
          },
          "metadata": {
            "tags": []
          },
          "execution_count": 141
        }
      ]
    },
    {
      "cell_type": "markdown",
      "metadata": {
        "id": "3qLxYc-Ni4Bb",
        "colab_type": "text"
      },
      "source": [
        "There are usually cases where a single segment belong to multiple categories."
      ]
    },
    {
      "cell_type": "code",
      "metadata": {
        "id": "qifwTvnXftKJ",
        "colab_type": "code",
        "colab": {
          "base_uri": "https://localhost:8080/",
          "height": 235
        },
        "outputId": "e9ad78d8-2ed1-4a70-a35f-dc325af5206f"
      },
      "source": [
        "print(joined.groupby(['Policy UID','segment_id']).agg(lambda x: x.nunique())['category_name'])"
      ],
      "execution_count": null,
      "outputs": [
        {
          "output_type": "stream",
          "text": [
            "Policy UID  segment_id\n",
            "20          0             1\n",
            "            1             1\n",
            "            2             2\n",
            "            3             1\n",
            "            4             2\n",
            "                         ..\n",
            "1713        84            3\n",
            "            85            1\n",
            "            86            1\n",
            "            87            1\n",
            "            88            1\n",
            "Name: category_name, Length: 3792, dtype: int64\n"
          ],
          "name": "stdout"
        }
      ]
    },
    {
      "cell_type": "markdown",
      "metadata": {
        "id": "vYwIq_jejVfl",
        "colab_type": "text"
      },
      "source": [
        "In this case, we select the category name that appears most often in each segment."
      ]
    },
    {
      "cell_type": "code",
      "metadata": {
        "id": "BUYLdbd3jU4r",
        "colab_type": "code",
        "colab": {
          "base_uri": "https://localhost:8080/",
          "height": 296
        },
        "outputId": "eea50ffc-d514-472f-88da-3220a0239832"
      },
      "source": [
        "#Get the mode of each segment\n",
        "mode_categories = joined.groupby(['Policy UID','segment_id']).agg(lambda x: x.value_counts().index[0])\n",
        "mode_categories = mode_categories.reset_index()\n",
        "mode_categories.head()"
      ],
      "execution_count": null,
      "outputs": [
        {
          "output_type": "execute_result",
          "data": {
            "text/html": [
              "<div>\n",
              "<style scoped>\n",
              "    .dataframe tbody tr th:only-of-type {\n",
              "        vertical-align: middle;\n",
              "    }\n",
              "\n",
              "    .dataframe tbody tr th {\n",
              "        vertical-align: top;\n",
              "    }\n",
              "\n",
              "    .dataframe thead th {\n",
              "        text-align: right;\n",
              "    }\n",
              "</style>\n",
              "<table border=\"1\" class=\"dataframe\">\n",
              "  <thead>\n",
              "    <tr style=\"text-align: right;\">\n",
              "      <th></th>\n",
              "      <th>Policy UID</th>\n",
              "      <th>segment_id</th>\n",
              "      <th>annotation_id</th>\n",
              "      <th>annotator_id</th>\n",
              "      <th>category_name</th>\n",
              "      <th>policy_url</th>\n",
              "      <th>segments</th>\n",
              "    </tr>\n",
              "  </thead>\n",
              "  <tbody>\n",
              "    <tr>\n",
              "      <th>0</th>\n",
              "      <td>20</td>\n",
              "      <td>0</td>\n",
              "      <td>4069</td>\n",
              "      <td>88</td>\n",
              "      <td>Other</td>\n",
              "      <td>http://www.theatlantic.com/privacy-policy/</td>\n",
              "      <td>&lt;strong&gt; Privacy Policy &lt;/strong&gt; &lt;br&gt; &lt;br&gt; &lt;s...</td>\n",
              "    </tr>\n",
              "    <tr>\n",
              "      <th>1</th>\n",
              "      <td>20</td>\n",
              "      <td>1</td>\n",
              "      <td>4070</td>\n",
              "      <td>88</td>\n",
              "      <td>Other</td>\n",
              "      <td>http://www.theatlantic.com/privacy-policy/</td>\n",
              "      <td>This privacy policy does not apply to Sites ma...</td>\n",
              "    </tr>\n",
              "    <tr>\n",
              "      <th>2</th>\n",
              "      <td>20</td>\n",
              "      <td>2</td>\n",
              "      <td>2843</td>\n",
              "      <td>82</td>\n",
              "      <td>Policy Change</td>\n",
              "      <td>http://www.theatlantic.com/privacy-policy/</td>\n",
              "      <td>By visiting our Sites, you are accepting the p...</td>\n",
              "    </tr>\n",
              "    <tr>\n",
              "      <th>3</th>\n",
              "      <td>20</td>\n",
              "      <td>3</td>\n",
              "      <td>2847</td>\n",
              "      <td>84</td>\n",
              "      <td>First Party Collection/Use</td>\n",
              "      <td>http://www.theatlantic.com/privacy-policy/</td>\n",
              "      <td>&lt;strong&gt; What Information Is Collected? &lt;/stro...</td>\n",
              "    </tr>\n",
              "    <tr>\n",
              "      <th>4</th>\n",
              "      <td>20</td>\n",
              "      <td>4</td>\n",
              "      <td>4081</td>\n",
              "      <td>82</td>\n",
              "      <td>First Party Collection/Use</td>\n",
              "      <td>http://www.theatlantic.com/privacy-policy/</td>\n",
              "      <td>&lt;strong&gt; Personally Identifiable Information &lt;...</td>\n",
              "    </tr>\n",
              "  </tbody>\n",
              "</table>\n",
              "</div>"
            ],
            "text/plain": [
              "   Policy UID  ...                                           segments\n",
              "0          20  ...  <strong> Privacy Policy </strong> <br> <br> <s...\n",
              "1          20  ...  This privacy policy does not apply to Sites ma...\n",
              "2          20  ...  By visiting our Sites, you are accepting the p...\n",
              "3          20  ...  <strong> What Information Is Collected? </stro...\n",
              "4          20  ...  <strong> Personally Identifiable Information <...\n",
              "\n",
              "[5 rows x 7 columns]"
            ]
          },
          "metadata": {
            "tags": []
          },
          "execution_count": 153
        }
      ]
    },
    {
      "cell_type": "code",
      "metadata": {
        "id": "JHuppHRO0jW-",
        "colab_type": "code",
        "colab": {
          "base_uri": "https://localhost:8080/",
          "height": 195
        },
        "outputId": "299d862d-5ead-4598-925f-35d9ae1875c2"
      },
      "source": [
        "mode_categories= mode_categories.drop(['annotation_id','policy_url','annotator_id'],axis=1)\n",
        "mode_categories.head()"
      ],
      "execution_count": null,
      "outputs": [
        {
          "output_type": "execute_result",
          "data": {
            "text/html": [
              "<div>\n",
              "<style scoped>\n",
              "    .dataframe tbody tr th:only-of-type {\n",
              "        vertical-align: middle;\n",
              "    }\n",
              "\n",
              "    .dataframe tbody tr th {\n",
              "        vertical-align: top;\n",
              "    }\n",
              "\n",
              "    .dataframe thead th {\n",
              "        text-align: right;\n",
              "    }\n",
              "</style>\n",
              "<table border=\"1\" class=\"dataframe\">\n",
              "  <thead>\n",
              "    <tr style=\"text-align: right;\">\n",
              "      <th></th>\n",
              "      <th>Policy UID</th>\n",
              "      <th>segment_id</th>\n",
              "      <th>category_name</th>\n",
              "      <th>segments</th>\n",
              "    </tr>\n",
              "  </thead>\n",
              "  <tbody>\n",
              "    <tr>\n",
              "      <th>0</th>\n",
              "      <td>20</td>\n",
              "      <td>0</td>\n",
              "      <td>Other</td>\n",
              "      <td>&lt;strong&gt; Privacy Policy &lt;/strong&gt; &lt;br&gt; &lt;br&gt; &lt;s...</td>\n",
              "    </tr>\n",
              "    <tr>\n",
              "      <th>1</th>\n",
              "      <td>20</td>\n",
              "      <td>1</td>\n",
              "      <td>Other</td>\n",
              "      <td>This privacy policy does not apply to Sites ma...</td>\n",
              "    </tr>\n",
              "    <tr>\n",
              "      <th>2</th>\n",
              "      <td>20</td>\n",
              "      <td>2</td>\n",
              "      <td>Policy Change</td>\n",
              "      <td>By visiting our Sites, you are accepting the p...</td>\n",
              "    </tr>\n",
              "    <tr>\n",
              "      <th>3</th>\n",
              "      <td>20</td>\n",
              "      <td>3</td>\n",
              "      <td>First Party Collection/Use</td>\n",
              "      <td>&lt;strong&gt; What Information Is Collected? &lt;/stro...</td>\n",
              "    </tr>\n",
              "    <tr>\n",
              "      <th>4</th>\n",
              "      <td>20</td>\n",
              "      <td>4</td>\n",
              "      <td>First Party Collection/Use</td>\n",
              "      <td>&lt;strong&gt; Personally Identifiable Information &lt;...</td>\n",
              "    </tr>\n",
              "  </tbody>\n",
              "</table>\n",
              "</div>"
            ],
            "text/plain": [
              "   Policy UID  ...                                           segments\n",
              "0          20  ...  <strong> Privacy Policy </strong> <br> <br> <s...\n",
              "1          20  ...  This privacy policy does not apply to Sites ma...\n",
              "2          20  ...  By visiting our Sites, you are accepting the p...\n",
              "3          20  ...  <strong> What Information Is Collected? </stro...\n",
              "4          20  ...  <strong> Personally Identifiable Information <...\n",
              "\n",
              "[5 rows x 4 columns]"
            ]
          },
          "metadata": {
            "tags": []
          },
          "execution_count": 154
        }
      ]
    },
    {
      "cell_type": "code",
      "metadata": {
        "id": "X2aIUFohmpdg",
        "colab_type": "code",
        "colab": {}
      },
      "source": [
        "def clean_text(text):\n",
        "  text = ' '.join(re.sub(\"(@[A-Za-z0-9]+)|([^0-9A-Za-z \\t])|(\\w+:\\/\\/\\S+)\", \"\", tweet).split())\n",
        "  #Then tokenisation\n",
        "  tokens = word_tokenize(text)\n",
        "  # convert to lower case\n",
        "  tokens = [w.lower() for w in tokens]\n",
        "  # remove punctuation from each word\n",
        "  table = str.maketrans('', '', string.punctuation)\n",
        "  stripped = [w.translate(table) for w in tokens]\n",
        "  # remove remaining tokens that are not alphabetic\n",
        "  words = [word for word in stripped if word.isalpha()]\n",
        "  # filter out stop words\n",
        "  stop_words = set(stopwords.words('english'))\n",
        "  # You can add more stop words here, specific for tweets\n",
        "  words = [w for w in words if not w in stop_words]\n",
        "  # stemming of words\n",
        "  porter = PorterStemmer()\n",
        "  words = [porter.stem(word) for word in words]\n",
        "  # Convert from list to a sentence again\n",
        "  text = ' '.join(word for word in words)\n",
        "  return text"
      ],
      "execution_count": null,
      "outputs": []
    },
    {
      "cell_type": "code",
      "metadata": {
        "id": "7Q-pk8G913Y5",
        "colab_type": "code",
        "colab": {}
      },
      "source": [
        "#Process the segments here\n",
        "mode_categories['segments'] = mode_categories['segments'].apply(clean_text)"
      ],
      "execution_count": null,
      "outputs": []
    },
    {
      "cell_type": "code",
      "metadata": {
        "id": "TDnTxemv28r5",
        "colab_type": "code",
        "colab": {
          "base_uri": "https://localhost:8080/",
          "height": 195
        },
        "outputId": "3a71e0e8-acea-465e-805d-286a1377cccb"
      },
      "source": [
        "mode_categories.head()"
      ],
      "execution_count": null,
      "outputs": [
        {
          "output_type": "execute_result",
          "data": {
            "text/html": [
              "<div>\n",
              "<style scoped>\n",
              "    .dataframe tbody tr th:only-of-type {\n",
              "        vertical-align: middle;\n",
              "    }\n",
              "\n",
              "    .dataframe tbody tr th {\n",
              "        vertical-align: top;\n",
              "    }\n",
              "\n",
              "    .dataframe thead th {\n",
              "        text-align: right;\n",
              "    }\n",
              "</style>\n",
              "<table border=\"1\" class=\"dataframe\">\n",
              "  <thead>\n",
              "    <tr style=\"text-align: right;\">\n",
              "      <th></th>\n",
              "      <th>Policy UID</th>\n",
              "      <th>segment_id</th>\n",
              "      <th>category_name</th>\n",
              "      <th>segments</th>\n",
              "    </tr>\n",
              "  </thead>\n",
              "  <tbody>\n",
              "    <tr>\n",
              "      <th>0</th>\n",
              "      <td>20</td>\n",
              "      <td>0</td>\n",
              "      <td>Other</td>\n",
              "      <td>strong privaci polici strong br br strong effe...</td>\n",
              "    </tr>\n",
              "    <tr>\n",
              "      <th>1</th>\n",
              "      <td>20</td>\n",
              "      <td>1</td>\n",
              "      <td>Other</td>\n",
              "      <td>privaci polici appli site maintain compani org...</td>\n",
              "    </tr>\n",
              "    <tr>\n",
              "      <th>2</th>\n",
              "      <td>20</td>\n",
              "      <td>2</td>\n",
              "      <td>Policy Change</td>\n",
              "      <td>visit site accept practic describ privaci poli...</td>\n",
              "    </tr>\n",
              "    <tr>\n",
              "      <th>3</th>\n",
              "      <td>20</td>\n",
              "      <td>3</td>\n",
              "      <td>First Party Collection/Use</td>\n",
              "      <td>strong inform collect strong br br collect two...</td>\n",
              "    </tr>\n",
              "    <tr>\n",
              "      <th>4</th>\n",
              "      <td>20</td>\n",
              "      <td>4</td>\n",
              "      <td>First Party Collection/Use</td>\n",
              "      <td>strong person identifi inform strong br br gen...</td>\n",
              "    </tr>\n",
              "  </tbody>\n",
              "</table>\n",
              "</div>"
            ],
            "text/plain": [
              "   Policy UID  ...                                           segments\n",
              "0          20  ...  strong privaci polici strong br br strong effe...\n",
              "1          20  ...  privaci polici appli site maintain compani org...\n",
              "2          20  ...  visit site accept practic describ privaci poli...\n",
              "3          20  ...  strong inform collect strong br br collect two...\n",
              "4          20  ...  strong person identifi inform strong br br gen...\n",
              "\n",
              "[5 rows x 4 columns]"
            ]
          },
          "metadata": {
            "tags": []
          },
          "execution_count": 179
        }
      ]
    },
    {
      "cell_type": "code",
      "metadata": {
        "id": "1kWtj51k4r-T",
        "colab_type": "code",
        "colab": {}
      },
      "source": [
        "mode_categories.to_csv(\"/content/drive/My Drive/OPP-115/OPP-115/segment_categories.csv\")"
      ],
      "execution_count": null,
      "outputs": []
    }
  ]
}