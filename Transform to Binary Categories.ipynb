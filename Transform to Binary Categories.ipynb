{
  "nbformat": 4,
  "nbformat_minor": 0,
  "metadata": {
    "colab": {
      "name": "Untitled6.ipynb",
      "provenance": [],
      "mount_file_id": "https://github.com/bachvu98/Policy-NLP/blob/master/Transform%20to%20Binary%20Categories.ipynb",
      "authorship_tag": "ABX9TyPXQq5FwwThTGhUGOYxZLpW",
      "include_colab_link": true
    },
    "kernelspec": {
      "name": "python3",
      "display_name": "Python 3"
    }
  },
  "cells": [
    {
      "cell_type": "markdown",
      "metadata": {
        "id": "view-in-github",
        "colab_type": "text"
      },
      "source": [
        "<a href=\"https://colab.research.google.com/github/bachvu98/Policy-NLP/blob/master/Transform%20to%20Binary%20Categories.ipynb\" target=\"_parent\"><img src=\"https://colab.research.google.com/assets/colab-badge.svg\" alt=\"Open In Colab\"/></a>"
      ]
    },
    {
      "cell_type": "markdown",
      "metadata": {
        "id": "8Ft54CMZf3c9",
        "colab_type": "text"
      },
      "source": [
        "First, we import the require dependencies"
      ]
    },
    {
      "cell_type": "code",
      "metadata": {
        "id": "nVVXCy_9cr_9",
        "colab_type": "code",
        "colab": {}
      },
      "source": [
        "import pandas as pd\n",
        "import numpy as np\n",
        "import nltk"
      ],
      "execution_count": 3,
      "outputs": []
    },
    {
      "cell_type": "markdown",
      "metadata": {
        "id": "7VLVaZ5OgDB2",
        "colab_type": "text"
      },
      "source": [
        "Read in the data from GitHub repository"
      ]
    },
    {
      "cell_type": "code",
      "metadata": {
        "id": "qZe1zJ0Rc6EF",
        "colab_type": "code",
        "colab": {}
      },
      "source": [
        "annotations = pd.read_csv('https://raw.githubusercontent.com/bachvu98/Policy-NLP/master/OPP-115_v1_0/OPP-115/annotations.csv')\n",
        "sites = pd.read_csv('https://raw.githubusercontent.com/bachvu98/Policy-NLP/master/OPP-115_v1_0/OPP-115/sites.csv')\n",
        "segments = pd.read_csv('https://raw.githubusercontent.com/bachvu98/Policy-NLP/master/OPP-115_v1_0/OPP-115/segments.csv')"
      ],
      "execution_count": 52,
      "outputs": []
    },
    {
      "cell_type": "markdown",
      "metadata": {
        "id": "j3oe9VCKgJID",
        "colab_type": "text"
      },
      "source": [
        "Preview of **annotations** and **segments** table"
      ]
    },
    {
      "cell_type": "code",
      "metadata": {
        "id": "GcQtEXXjUnhQ",
        "colab_type": "code",
        "colab": {
          "base_uri": "https://localhost:8080/",
          "height": 380
        },
        "outputId": "3eeaa4dd-3a13-4ec4-ee1c-c6fe697c02c7"
      },
      "source": [
        "annotations.head()"
      ],
      "execution_count": 54,
      "outputs": [
        {
          "output_type": "execute_result",
          "data": {
            "text/html": [
              "<div>\n",
              "<style scoped>\n",
              "    .dataframe tbody tr th:only-of-type {\n",
              "        vertical-align: middle;\n",
              "    }\n",
              "\n",
              "    .dataframe tbody tr th {\n",
              "        vertical-align: top;\n",
              "    }\n",
              "\n",
              "    .dataframe thead th {\n",
              "        text-align: right;\n",
              "    }\n",
              "</style>\n",
              "<table border=\"1\" class=\"dataframe\">\n",
              "  <thead>\n",
              "    <tr style=\"text-align: right;\">\n",
              "      <th></th>\n",
              "      <th>Policy UID</th>\n",
              "      <th>annotation_id</th>\n",
              "      <th>batch_id</th>\n",
              "      <th>annotator_id</th>\n",
              "      <th>segment_id</th>\n",
              "      <th>category_name</th>\n",
              "      <th>attributes_value_pairs</th>\n",
              "      <th>date</th>\n",
              "      <th>policy_url</th>\n",
              "    </tr>\n",
              "  </thead>\n",
              "  <tbody>\n",
              "    <tr>\n",
              "      <th>0</th>\n",
              "      <td>1017</td>\n",
              "      <td>20137</td>\n",
              "      <td>test_category_labeling_highlight_fordham_aaaaa</td>\n",
              "      <td>121</td>\n",
              "      <td>0</td>\n",
              "      <td>Other</td>\n",
              "      <td>{\"Other Type\": {\"selectedText\": \"Sci-News.com ...</td>\n",
              "      <td>NaN</td>\n",
              "      <td>http://www.sci-news.com/privacy-policy.html</td>\n",
              "    </tr>\n",
              "    <tr>\n",
              "      <th>1</th>\n",
              "      <td>1017</td>\n",
              "      <td>20324</td>\n",
              "      <td>test_category_labeling_highlight_fordham_aaaaa</td>\n",
              "      <td>121</td>\n",
              "      <td>1</td>\n",
              "      <td>First Party Collection/Use</td>\n",
              "      <td>{\"Collection Mode\": {\"selectedText\": \"nformati...</td>\n",
              "      <td>NaN</td>\n",
              "      <td>http://www.sci-news.com/privacy-policy.html</td>\n",
              "    </tr>\n",
              "    <tr>\n",
              "      <th>2</th>\n",
              "      <td>1017</td>\n",
              "      <td>20325</td>\n",
              "      <td>test_category_labeling_highlight_fordham_aaaaa</td>\n",
              "      <td>121</td>\n",
              "      <td>1</td>\n",
              "      <td>First Party Collection/Use</td>\n",
              "      <td>{\"Collection Mode\": {\"selectedText\": \"nformati...</td>\n",
              "      <td>NaN</td>\n",
              "      <td>http://www.sci-news.com/privacy-policy.html</td>\n",
              "    </tr>\n",
              "    <tr>\n",
              "      <th>3</th>\n",
              "      <td>1017</td>\n",
              "      <td>20326</td>\n",
              "      <td>test_category_labeling_highlight_fordham_aaaaa</td>\n",
              "      <td>121</td>\n",
              "      <td>2</td>\n",
              "      <td>Data Retention</td>\n",
              "      <td>{\"Personal Information Type\": {\"selectedText\":...</td>\n",
              "      <td>NaN</td>\n",
              "      <td>http://www.sci-news.com/privacy-policy.html</td>\n",
              "    </tr>\n",
              "    <tr>\n",
              "      <th>4</th>\n",
              "      <td>1017</td>\n",
              "      <td>20327</td>\n",
              "      <td>test_category_labeling_highlight_fordham_aaaaa</td>\n",
              "      <td>121</td>\n",
              "      <td>3</td>\n",
              "      <td>First Party Collection/Use</td>\n",
              "      <td>{\"Collection Mode\": {\"selectedText\": \"Not sele...</td>\n",
              "      <td>NaN</td>\n",
              "      <td>http://www.sci-news.com/privacy-policy.html</td>\n",
              "    </tr>\n",
              "  </tbody>\n",
              "</table>\n",
              "</div>"
            ],
            "text/plain": [
              "   Policy UID  annotation_id  ... date                                   policy_url\n",
              "0        1017          20137  ...  NaN  http://www.sci-news.com/privacy-policy.html\n",
              "1        1017          20324  ...  NaN  http://www.sci-news.com/privacy-policy.html\n",
              "2        1017          20325  ...  NaN  http://www.sci-news.com/privacy-policy.html\n",
              "3        1017          20326  ...  NaN  http://www.sci-news.com/privacy-policy.html\n",
              "4        1017          20327  ...  NaN  http://www.sci-news.com/privacy-policy.html\n",
              "\n",
              "[5 rows x 9 columns]"
            ]
          },
          "metadata": {
            "tags": []
          },
          "execution_count": 54
        }
      ]
    },
    {
      "cell_type": "code",
      "metadata": {
        "id": "H-gcb_YuUgo3",
        "colab_type": "code",
        "colab": {
          "base_uri": "https://localhost:8080/",
          "height": 195
        },
        "outputId": "1fca6aec-02c9-43ea-cffb-52798fd37406"
      },
      "source": [
        "segments.head()"
      ],
      "execution_count": 64,
      "outputs": [
        {
          "output_type": "execute_result",
          "data": {
            "text/html": [
              "<div>\n",
              "<style scoped>\n",
              "    .dataframe tbody tr th:only-of-type {\n",
              "        vertical-align: middle;\n",
              "    }\n",
              "\n",
              "    .dataframe tbody tr th {\n",
              "        vertical-align: top;\n",
              "    }\n",
              "\n",
              "    .dataframe thead th {\n",
              "        text-align: right;\n",
              "    }\n",
              "</style>\n",
              "<table border=\"1\" class=\"dataframe\">\n",
              "  <thead>\n",
              "    <tr style=\"text-align: right;\">\n",
              "      <th></th>\n",
              "      <th>Policy UID</th>\n",
              "      <th>segment_id</th>\n",
              "      <th>segments</th>\n",
              "    </tr>\n",
              "  </thead>\n",
              "  <tbody>\n",
              "    <tr>\n",
              "      <th>0</th>\n",
              "      <td>20</td>\n",
              "      <td>0</td>\n",
              "      <td>&lt;strong&gt; Privacy Policy &lt;/strong&gt; &lt;br&gt; &lt;br&gt; &lt;s...</td>\n",
              "    </tr>\n",
              "    <tr>\n",
              "      <th>1</th>\n",
              "      <td>20</td>\n",
              "      <td>1</td>\n",
              "      <td>This privacy policy does not apply to Sites ma...</td>\n",
              "    </tr>\n",
              "    <tr>\n",
              "      <th>2</th>\n",
              "      <td>20</td>\n",
              "      <td>2</td>\n",
              "      <td>By visiting our Sites, you are accepting the p...</td>\n",
              "    </tr>\n",
              "    <tr>\n",
              "      <th>3</th>\n",
              "      <td>20</td>\n",
              "      <td>3</td>\n",
              "      <td>&lt;strong&gt; What Information Is Collected? &lt;/stro...</td>\n",
              "    </tr>\n",
              "    <tr>\n",
              "      <th>4</th>\n",
              "      <td>20</td>\n",
              "      <td>4</td>\n",
              "      <td>&lt;strong&gt; Personally Identifiable Information &lt;...</td>\n",
              "    </tr>\n",
              "  </tbody>\n",
              "</table>\n",
              "</div>"
            ],
            "text/plain": [
              "   Policy UID  segment_id                                           segments\n",
              "0          20           0  <strong> Privacy Policy </strong> <br> <br> <s...\n",
              "1          20           1  This privacy policy does not apply to Sites ma...\n",
              "2          20           2  By visiting our Sites, you are accepting the p...\n",
              "3          20           3  <strong> What Information Is Collected? </stro...\n",
              "4          20           4  <strong> Personally Identifiable Information <..."
            ]
          },
          "metadata": {
            "tags": []
          },
          "execution_count": 64
        }
      ]
    },
    {
      "cell_type": "markdown",
      "metadata": {
        "id": "s5VVvzNwgRjp",
        "colab_type": "text"
      },
      "source": [
        "Merge annotations to corresponding segments"
      ]
    },
    {
      "cell_type": "code",
      "metadata": {
        "id": "IslgSdF1fQ0A",
        "colab_type": "code",
        "colab": {
          "base_uri": "https://localhost:8080/",
          "height": 313
        },
        "outputId": "8c9ef041-db98-41de-de6e-06115fe193de"
      },
      "source": [
        "joined = pd.merge(annotations,segments,on=['Policy UID','segment_id'],how='outer')\n",
        "joined['category_name'] = joined['category_name'].fillna(value='None')\n",
        "joined = joined.drop(['batch_id','attributes_value_pairs','date'],axis=1)\n",
        "#joined = seg_ind.merge(ann_ind)\n",
        "print(joined.shape)\n",
        "joined.head()"
      ],
      "execution_count": 86,
      "outputs": [
        {
          "output_type": "stream",
          "text": [
            "(23194, 7)\n"
          ],
          "name": "stdout"
        },
        {
          "output_type": "execute_result",
          "data": {
            "text/html": [
              "<div>\n",
              "<style scoped>\n",
              "    .dataframe tbody tr th:only-of-type {\n",
              "        vertical-align: middle;\n",
              "    }\n",
              "\n",
              "    .dataframe tbody tr th {\n",
              "        vertical-align: top;\n",
              "    }\n",
              "\n",
              "    .dataframe thead th {\n",
              "        text-align: right;\n",
              "    }\n",
              "</style>\n",
              "<table border=\"1\" class=\"dataframe\">\n",
              "  <thead>\n",
              "    <tr style=\"text-align: right;\">\n",
              "      <th></th>\n",
              "      <th>Policy UID</th>\n",
              "      <th>annotation_id</th>\n",
              "      <th>annotator_id</th>\n",
              "      <th>segment_id</th>\n",
              "      <th>category_name</th>\n",
              "      <th>policy_url</th>\n",
              "      <th>segments</th>\n",
              "    </tr>\n",
              "  </thead>\n",
              "  <tbody>\n",
              "    <tr>\n",
              "      <th>0</th>\n",
              "      <td>1017</td>\n",
              "      <td>20137</td>\n",
              "      <td>121</td>\n",
              "      <td>0</td>\n",
              "      <td>Other</td>\n",
              "      <td>http://www.sci-news.com/privacy-policy.html</td>\n",
              "      <td>Privacy Policy &lt;br&gt; &lt;br&gt; Sci-News.com is commi...</td>\n",
              "    </tr>\n",
              "    <tr>\n",
              "      <th>1</th>\n",
              "      <td>1017</td>\n",
              "      <td>20589</td>\n",
              "      <td>117</td>\n",
              "      <td>0</td>\n",
              "      <td>Other</td>\n",
              "      <td>http://www.sci-news.com/privacy-policy.html</td>\n",
              "      <td>Privacy Policy &lt;br&gt; &lt;br&gt; Sci-News.com is commi...</td>\n",
              "    </tr>\n",
              "    <tr>\n",
              "      <th>2</th>\n",
              "      <td>1017</td>\n",
              "      <td>20233</td>\n",
              "      <td>118</td>\n",
              "      <td>0</td>\n",
              "      <td>Other</td>\n",
              "      <td>http://www.sci-news.com/privacy-policy.html</td>\n",
              "      <td>Privacy Policy &lt;br&gt; &lt;br&gt; Sci-News.com is commi...</td>\n",
              "    </tr>\n",
              "    <tr>\n",
              "      <th>3</th>\n",
              "      <td>1017</td>\n",
              "      <td>20234</td>\n",
              "      <td>118</td>\n",
              "      <td>0</td>\n",
              "      <td>Policy Change</td>\n",
              "      <td>http://www.sci-news.com/privacy-policy.html</td>\n",
              "      <td>Privacy Policy &lt;br&gt; &lt;br&gt; Sci-News.com is commi...</td>\n",
              "    </tr>\n",
              "    <tr>\n",
              "      <th>4</th>\n",
              "      <td>1017</td>\n",
              "      <td>20324</td>\n",
              "      <td>121</td>\n",
              "      <td>1</td>\n",
              "      <td>First Party Collection/Use</td>\n",
              "      <td>http://www.sci-news.com/privacy-policy.html</td>\n",
              "      <td>Information that Sci-News.com May Collect Onli...</td>\n",
              "    </tr>\n",
              "  </tbody>\n",
              "</table>\n",
              "</div>"
            ],
            "text/plain": [
              "   Policy UID  ...                                           segments\n",
              "0        1017  ...  Privacy Policy <br> <br> Sci-News.com is commi...\n",
              "1        1017  ...  Privacy Policy <br> <br> Sci-News.com is commi...\n",
              "2        1017  ...  Privacy Policy <br> <br> Sci-News.com is commi...\n",
              "3        1017  ...  Privacy Policy <br> <br> Sci-News.com is commi...\n",
              "4        1017  ...  Information that Sci-News.com May Collect Onli...\n",
              "\n",
              "[5 rows x 7 columns]"
            ]
          },
          "metadata": {
            "tags": []
          },
          "execution_count": 86
        }
      ]
    },
    {
      "cell_type": "markdown",
      "metadata": {
        "id": "3qLxYc-Ni4Bb",
        "colab_type": "text"
      },
      "source": [
        "There are usually cases where a single segment belong to multiple categories."
      ]
    },
    {
      "cell_type": "code",
      "metadata": {
        "id": "qifwTvnXftKJ",
        "colab_type": "code",
        "colab": {
          "base_uri": "https://localhost:8080/",
          "height": 235
        },
        "outputId": "2023ea3f-bad8-47c2-bce6-472258c6f3e5"
      },
      "source": [
        "print(joined.groupby(['Policy UID','segment_id']).agg(lambda x: x.nunique())['category_name'])"
      ],
      "execution_count": 67,
      "outputs": [
        {
          "output_type": "stream",
          "text": [
            "Policy UID  segment_id\n",
            "20          0             1\n",
            "            1             1\n",
            "            2             2\n",
            "            3             1\n",
            "            4             2\n",
            "                         ..\n",
            "1713        84            3\n",
            "            85            1\n",
            "            86            1\n",
            "            87            1\n",
            "            88            1\n",
            "Name: category_name, Length: 3792, dtype: int64\n"
          ],
          "name": "stdout"
        }
      ]
    },
    {
      "cell_type": "markdown",
      "metadata": {
        "id": "vYwIq_jejVfl",
        "colab_type": "text"
      },
      "source": [
        "In this case, we select the category name that appears most often in each segment."
      ]
    },
    {
      "cell_type": "code",
      "metadata": {
        "id": "BUYLdbd3jU4r",
        "colab_type": "code",
        "colab": {
          "base_uri": "https://localhost:8080/",
          "height": 195
        },
        "outputId": "2c3c46b7-8e89-4b58-8313-2d9688905d38"
      },
      "source": [
        "#Get the mode of each segment\n",
        "mode_categories = joined.groupby(['Policy UID','segment_id']).agg(lambda x: x.value_counts().index[0])\n",
        "mode_categories = mode_categories.reset_index()\n",
        "mode_categories.head()"
      ],
      "execution_count": 92,
      "outputs": [
        {
          "output_type": "execute_result",
          "data": {
            "text/html": [
              "<div>\n",
              "<style scoped>\n",
              "    .dataframe tbody tr th:only-of-type {\n",
              "        vertical-align: middle;\n",
              "    }\n",
              "\n",
              "    .dataframe tbody tr th {\n",
              "        vertical-align: top;\n",
              "    }\n",
              "\n",
              "    .dataframe thead th {\n",
              "        text-align: right;\n",
              "    }\n",
              "</style>\n",
              "<table border=\"1\" class=\"dataframe\">\n",
              "  <thead>\n",
              "    <tr style=\"text-align: right;\">\n",
              "      <th></th>\n",
              "      <th>Policy UID</th>\n",
              "      <th>segment_id</th>\n",
              "      <th>annotation_id</th>\n",
              "      <th>annotator_id</th>\n",
              "      <th>category_name</th>\n",
              "      <th>policy_url</th>\n",
              "      <th>segments</th>\n",
              "    </tr>\n",
              "  </thead>\n",
              "  <tbody>\n",
              "    <tr>\n",
              "      <th>0</th>\n",
              "      <td>20</td>\n",
              "      <td>0</td>\n",
              "      <td>4069</td>\n",
              "      <td>88</td>\n",
              "      <td>Other</td>\n",
              "      <td>http://www.theatlantic.com/privacy-policy/</td>\n",
              "      <td>&lt;strong&gt; Privacy Policy &lt;/strong&gt; &lt;br&gt; &lt;br&gt; &lt;s...</td>\n",
              "    </tr>\n",
              "    <tr>\n",
              "      <th>1</th>\n",
              "      <td>20</td>\n",
              "      <td>1</td>\n",
              "      <td>4070</td>\n",
              "      <td>88</td>\n",
              "      <td>Other</td>\n",
              "      <td>http://www.theatlantic.com/privacy-policy/</td>\n",
              "      <td>This privacy policy does not apply to Sites ma...</td>\n",
              "    </tr>\n",
              "    <tr>\n",
              "      <th>2</th>\n",
              "      <td>20</td>\n",
              "      <td>2</td>\n",
              "      <td>2843</td>\n",
              "      <td>82</td>\n",
              "      <td>Policy Change</td>\n",
              "      <td>http://www.theatlantic.com/privacy-policy/</td>\n",
              "      <td>By visiting our Sites, you are accepting the p...</td>\n",
              "    </tr>\n",
              "    <tr>\n",
              "      <th>3</th>\n",
              "      <td>20</td>\n",
              "      <td>3</td>\n",
              "      <td>2847</td>\n",
              "      <td>84</td>\n",
              "      <td>First Party Collection/Use</td>\n",
              "      <td>http://www.theatlantic.com/privacy-policy/</td>\n",
              "      <td>&lt;strong&gt; What Information Is Collected? &lt;/stro...</td>\n",
              "    </tr>\n",
              "    <tr>\n",
              "      <th>4</th>\n",
              "      <td>20</td>\n",
              "      <td>4</td>\n",
              "      <td>4081</td>\n",
              "      <td>82</td>\n",
              "      <td>First Party Collection/Use</td>\n",
              "      <td>http://www.theatlantic.com/privacy-policy/</td>\n",
              "      <td>&lt;strong&gt; Personally Identifiable Information &lt;...</td>\n",
              "    </tr>\n",
              "  </tbody>\n",
              "</table>\n",
              "</div>"
            ],
            "text/plain": [
              "   Policy UID  ...                                           segments\n",
              "0          20  ...  <strong> Privacy Policy </strong> <br> <br> <s...\n",
              "1          20  ...  This privacy policy does not apply to Sites ma...\n",
              "2          20  ...  By visiting our Sites, you are accepting the p...\n",
              "3          20  ...  <strong> What Information Is Collected? </stro...\n",
              "4          20  ...  <strong> Personally Identifiable Information <...\n",
              "\n",
              "[5 rows x 7 columns]"
            ]
          },
          "metadata": {
            "tags": []
          },
          "execution_count": 92
        }
      ]
    },
    {
      "cell_type": "code",
      "metadata": {
        "id": "b3otVRwqlSE9",
        "colab_type": "code",
        "colab": {
          "base_uri": "https://localhost:8080/",
          "height": 54
        },
        "outputId": "69509c60-b133-4926-ae58-c2c4ba20bcaa"
      },
      "source": [
        "categories = list(mode_categories['category_name'].unique())\n",
        "print(categories)\n",
        "cols = {'Other': 'other',\n",
        "        'Policy Change': 'policy_change',\n",
        "        'First Party Collection/Use': 'first_party_collection_use',\n",
        "        'Third Party Sharing/Collection': 'third_party_sharing_collection',\n",
        "        'Do Not Track': 'do_not_track',\n",
        "        'User Choice/Control': 'user_choice_control',\n",
        "        'International and Specific Audiences': 'international_specific_audiences',\n",
        "        'Data Security': 'data_security',\n",
        "        'Data Retention': 'data_retention',\n",
        "        'User Access, Edit and Deletion': 'user_access_edit_deletion'}"
      ],
      "execution_count": 130,
      "outputs": [
        {
          "output_type": "stream",
          "text": [
            "['Other', 'Policy Change', 'First Party Collection/Use', 'Third Party Sharing/Collection', 'Do Not Track', 'User Choice/Control', 'International and Specific Audiences', 'Data Security', 'Data Retention', 'User Access, Edit and Deletion']\n"
          ],
          "name": "stdout"
        }
      ]
    },
    {
      "cell_type": "code",
      "metadata": {
        "id": "w7tuknO8l-6I",
        "colab_type": "code",
        "colab": {}
      },
      "source": [
        "#Loop through the categories and generate a set of new columns with names in cols\n",
        "binary_categories = pd.DataFrame({'Policy UID':mode_categories['Policy UID'], 'segment_id':mode_categories['segment_id']})"
      ],
      "execution_count": 136,
      "outputs": []
    },
    {
      "cell_type": "code",
      "metadata": {
        "id": "AKWcdUkomIDM",
        "colab_type": "code",
        "colab": {}
      },
      "source": [
        "for category in categories:\n",
        "    one_hot = lambda s: 1 if s.startswith(category) else 0\n",
        "    binary_categories[cols[category]] = mode_categories['category_name'].apply(one_hot)"
      ],
      "execution_count": 132,
      "outputs": []
    },
    {
      "cell_type": "code",
      "metadata": {
        "id": "TZK2XM3Mo2lr",
        "colab_type": "code",
        "colab": {
          "base_uri": "https://localhost:8080/",
          "height": 34
        },
        "outputId": "0d070a51-0935-4a2e-c4d6-7e372a61fb55"
      },
      "source": [
        "print(binary_categories.shape)"
      ],
      "execution_count": 135,
      "outputs": [
        {
          "output_type": "stream",
          "text": [
            "(3792, 2)\n"
          ],
          "name": "stdout"
        }
      ]
    },
    {
      "cell_type": "code",
      "metadata": {
        "id": "DCFTYFLbmKJo",
        "colab_type": "code",
        "colab": {
          "base_uri": "https://localhost:8080/",
          "height": 232
        },
        "outputId": "8455b99e-fb73-4a09-adcb-e9831f40732e"
      },
      "source": [
        "binary_categories.head()"
      ],
      "execution_count": 112,
      "outputs": [
        {
          "output_type": "execute_result",
          "data": {
            "text/html": [
              "<div>\n",
              "<style scoped>\n",
              "    .dataframe tbody tr th:only-of-type {\n",
              "        vertical-align: middle;\n",
              "    }\n",
              "\n",
              "    .dataframe tbody tr th {\n",
              "        vertical-align: top;\n",
              "    }\n",
              "\n",
              "    .dataframe thead th {\n",
              "        text-align: right;\n",
              "    }\n",
              "</style>\n",
              "<table border=\"1\" class=\"dataframe\">\n",
              "  <thead>\n",
              "    <tr style=\"text-align: right;\">\n",
              "      <th></th>\n",
              "      <th>Policy UID</th>\n",
              "      <th>segment_id</th>\n",
              "      <th>other</th>\n",
              "      <th>policy_change</th>\n",
              "      <th>first_party_collection_use</th>\n",
              "      <th>third_party_sharing_collection</th>\n",
              "      <th>do_not_track</th>\n",
              "      <th>user_choice_control</th>\n",
              "      <th>international_specific_audiences</th>\n",
              "      <th>data_security</th>\n",
              "      <th>data_retention</th>\n",
              "      <th>user_access_edit_deletion</th>\n",
              "    </tr>\n",
              "  </thead>\n",
              "  <tbody>\n",
              "    <tr>\n",
              "      <th>0</th>\n",
              "      <td>20</td>\n",
              "      <td>0</td>\n",
              "      <td>1</td>\n",
              "      <td>0</td>\n",
              "      <td>0</td>\n",
              "      <td>0</td>\n",
              "      <td>0</td>\n",
              "      <td>0</td>\n",
              "      <td>0</td>\n",
              "      <td>0</td>\n",
              "      <td>0</td>\n",
              "      <td>0</td>\n",
              "    </tr>\n",
              "    <tr>\n",
              "      <th>1</th>\n",
              "      <td>20</td>\n",
              "      <td>1</td>\n",
              "      <td>1</td>\n",
              "      <td>0</td>\n",
              "      <td>0</td>\n",
              "      <td>0</td>\n",
              "      <td>0</td>\n",
              "      <td>0</td>\n",
              "      <td>0</td>\n",
              "      <td>0</td>\n",
              "      <td>0</td>\n",
              "      <td>0</td>\n",
              "    </tr>\n",
              "    <tr>\n",
              "      <th>2</th>\n",
              "      <td>20</td>\n",
              "      <td>2</td>\n",
              "      <td>0</td>\n",
              "      <td>1</td>\n",
              "      <td>0</td>\n",
              "      <td>0</td>\n",
              "      <td>0</td>\n",
              "      <td>0</td>\n",
              "      <td>0</td>\n",
              "      <td>0</td>\n",
              "      <td>0</td>\n",
              "      <td>0</td>\n",
              "    </tr>\n",
              "    <tr>\n",
              "      <th>3</th>\n",
              "      <td>20</td>\n",
              "      <td>3</td>\n",
              "      <td>0</td>\n",
              "      <td>0</td>\n",
              "      <td>1</td>\n",
              "      <td>0</td>\n",
              "      <td>0</td>\n",
              "      <td>0</td>\n",
              "      <td>0</td>\n",
              "      <td>0</td>\n",
              "      <td>0</td>\n",
              "      <td>0</td>\n",
              "    </tr>\n",
              "    <tr>\n",
              "      <th>4</th>\n",
              "      <td>20</td>\n",
              "      <td>4</td>\n",
              "      <td>0</td>\n",
              "      <td>0</td>\n",
              "      <td>1</td>\n",
              "      <td>0</td>\n",
              "      <td>0</td>\n",
              "      <td>0</td>\n",
              "      <td>0</td>\n",
              "      <td>0</td>\n",
              "      <td>0</td>\n",
              "      <td>0</td>\n",
              "    </tr>\n",
              "  </tbody>\n",
              "</table>\n",
              "</div>"
            ],
            "text/plain": [
              "   Policy UID  segment_id  ...  data_retention  user_access_edit_deletion\n",
              "0          20           0  ...               0                          0\n",
              "1          20           1  ...               0                          0\n",
              "2          20           2  ...               0                          0\n",
              "3          20           3  ...               0                          0\n",
              "4          20           4  ...               0                          0\n",
              "\n",
              "[5 rows x 12 columns]"
            ]
          },
          "metadata": {
            "tags": []
          },
          "execution_count": 112
        }
      ]
    },
    {
      "cell_type": "code",
      "metadata": {
        "id": "X2aIUFohmpdg",
        "colab_type": "code",
        "colab": {}
      },
      "source": [
        "binary_categories.to_csv(\"/content/drive/My Drive/OPP-115/OPP-115/binary_segment_categories.csv\")"
      ],
      "execution_count": 102,
      "outputs": []
    }
  ]
}